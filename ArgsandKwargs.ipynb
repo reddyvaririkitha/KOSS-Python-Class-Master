{
 "cells": [
  {
   "cell_type": "markdown",
   "metadata": {},
   "source": [
    "## Args and Kwargs"
   ]
  },
  {
   "cell_type": "code",
   "execution_count": 4,
   "metadata": {},
   "outputs": [
    {
     "name": "stdout",
     "output_type": "stream",
     "text": [
      "first normal arg: yasoob\n",
      "another arg through *argv : python\n",
      "another arg through *argv : eggs\n",
      "another arg through *argv : test\n"
     ]
    }
   ],
   "source": [
    "def test_var_args(f_arg, *argv):\n",
    "    print(\"first normal arg:\", f_arg)\n",
    "    for arg in argv:\n",
    "        print(\"another arg through *argv :\", arg)\n",
    "\n",
    "test_var_args('yasoob','python','eggs','test')"
   ]
  },
  {
   "cell_type": "markdown",
   "metadata": {},
   "source": [
    "### **kwargs allows you to pass keyworded variable length of arguments to a function. \n",
    "\n",
    "### You should use **kwargs if you want to handle named arguments in a function"
   ]
  },
  {
   "cell_type": "code",
   "execution_count": 10,
   "metadata": {},
   "outputs": [
    {
     "name": "stdout",
     "output_type": "stream",
     "text": [
      "name == Rishabh\n"
     ]
    }
   ],
   "source": [
    "def greet_me(**kwargs):\n",
    "    if kwargs is not None:\n",
    "        for key, value in kwargs.items():\n",
    "            print(\"{} == {}\".format(key,value))\n",
    "\n",
    "greet_me(name=\"Rishabh\")"
   ]
  },
  {
   "cell_type": "code",
   "execution_count": 12,
   "metadata": {},
   "outputs": [],
   "source": [
    "def test_args_kwargs(arg1, arg2, arg3):\n",
    "    print(\"arg1:\"), arg1\n",
    "    print(\"arg2:\"), arg2\n",
    "    print(\"arg3:\"), arg3"
   ]
  },
  {
   "cell_type": "code",
   "execution_count": null,
   "metadata": {},
   "outputs": [],
   "source": [
    "args = (\"two\", 3,5)\n",
    "test_args_kwargs(*args)"
   ]
  },
  {
   "cell_type": "code",
   "execution_count": null,
   "metadata": {},
   "outputs": [],
   "source": [
    "kwargs = {\"arg3\": 3, \"arg2\": \"two\",\"arg1\":5}\n",
    "test_args_kwargs(**kwargs)"
   ]
  },
  {
   "cell_type": "code",
   "execution_count": 8,
   "metadata": {},
   "outputs": [],
   "source": [
    "def some_func(fargs,*args,**kwargs):\n",
    "    ..."
   ]
  },
  {
   "cell_type": "code",
   "execution_count": null,
   "metadata": {},
   "outputs": [],
   "source": []
  }
 ],
 "metadata": {
  "kernelspec": {
   "display_name": "Python 3",
   "language": "python",
   "name": "python3"
  },
  "language_info": {
   "codemirror_mode": {
    "name": "ipython",
    "version": 3
   },
   "file_extension": ".py",
   "mimetype": "text/x-python",
   "name": "python",
   "nbconvert_exporter": "python",
   "pygments_lexer": "ipython3",
   "version": "3.6.3"
  }
 },
 "nbformat": 4,
 "nbformat_minor": 2
}
