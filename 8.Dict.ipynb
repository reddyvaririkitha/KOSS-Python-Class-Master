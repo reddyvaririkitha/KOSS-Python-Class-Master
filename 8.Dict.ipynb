{
 "cells": [
  {
   "cell_type": "markdown",
   "metadata": {},
   "source": [
    "## Dictionary\n",
    "Dictionaries consist of pairs (called items) of keys and their corresponding values. Python dictionaries are also known as associative arrays or hash tables.\n",
    "\n",
    "In comparison to a list, a list can be called a dict, with keys 0,1,2,3..\n",
    "\n",
    "Key value pairs."
   ]
  },
  {
   "cell_type": "code",
   "execution_count": null,
   "metadata": {},
   "outputs": [],
   "source": [
    "d = {}    # Defining an empty dict in python\n",
    "print(d)"
   ]
  },
  {
   "cell_type": "code",
   "execution_count": null,
   "metadata": {},
   "outputs": [],
   "source": [
    "print(type(d))"
   ]
  },
  {
   "cell_type": "markdown",
   "metadata": {},
   "source": [
    "The type function shows the type of the object.\n",
    "\n",
    "### Constructing a dict"
   ]
  },
  {
   "cell_type": "code",
   "execution_count": null,
   "metadata": {},
   "outputs": [],
   "source": [
    "d = {'Name': \"Alice\", 'Age': 21} \n",
    "print(d)"
   ]
  },
  {
   "cell_type": "code",
   "execution_count": null,
   "metadata": {},
   "outputs": [],
   "source": [
    "print(d['Name'])         # Accessing a value of a dict"
   ]
  },
  {
   "cell_type": "markdown",
   "metadata": {},
   "source": [
    "### Modifying a dict"
   ]
  },
  {
   "cell_type": "code",
   "execution_count": null,
   "metadata": {},
   "outputs": [],
   "source": [
    "d['Age'] = 22\n",
    "print(d)"
   ]
  },
  {
   "cell_type": "markdown",
   "metadata": {},
   "source": [
    "### Adding elements in a dict"
   ]
  },
  {
   "cell_type": "code",
   "execution_count": null,
   "metadata": {},
   "outputs": [],
   "source": [
    "d['Gender'] = 'Male'\n",
    "print(d)"
   ]
  },
  {
   "cell_type": "markdown",
   "metadata": {},
   "source": [
    "### Removing elements from a dict"
   ]
  },
  {
   "cell_type": "code",
   "execution_count": null,
   "metadata": {},
   "outputs": [],
   "source": [
    "print(d)"
   ]
  },
  {
   "cell_type": "code",
   "execution_count": null,
   "metadata": {},
   "outputs": [],
   "source": [
    "del d['Age']\n",
    "print(d)"
   ]
  },
  {
   "cell_type": "markdown",
   "metadata": {},
   "source": [
    "### Properties of Keys and Values\n",
    "\n",
    "Dictionary values have no restrictions. They can be any arbitrary Python object, either standard objects or user-defined objects. However, same is not true for the keys. \n",
    "\n",
    "Keys must be :\n",
    "\n",
    "+ Unique in the dictionary (i.e. repitition of keys is not allowed)\n",
    "+ Of immutable type  (i.e. Lists, for e.g. can't be used as a dict key)\n",
    "\n",
    "In short, They must be **hashable**\n",
    "\n"
   ]
  },
  {
   "cell_type": "code",
   "execution_count": 1,
   "metadata": {},
   "outputs": [
    {
     "name": "stdout",
     "output_type": "stream",
     "text": [
      "{1: 'a', 2: 'c'}\n"
     ]
    }
   ],
   "source": [
    "d = {1: 'a', 2: 'b', 2: 'c'}         ## Note that keys are not unique\n",
    "print(d)"
   ]
  },
  {
   "cell_type": "code",
   "execution_count": 2,
   "metadata": {},
   "outputs": [
    {
     "name": "stdout",
     "output_type": "stream",
     "text": [
      "{1: 'a', 2: 'b', 3: 'b'}\n"
     ]
    }
   ],
   "source": [
    "d = {1: 'a', 2: 'b', 3: 'b'}         ## Note that values are not unique\n",
    "print(d)"
   ]
  },
  {
   "cell_type": "code",
   "execution_count": 3,
   "metadata": {},
   "outputs": [
    {
     "name": "stdout",
     "output_type": "stream",
     "text": [
      "{1: 'a', 'name': 'abc', 1.5: 2.5, 4: [1, 2, 3], 5: {'1': 1, '2': 2}}\n"
     ]
    }
   ],
   "source": [
    "d = {1: 'a', 'name': 'abc', 1.5: 2.5, 4: [1,2,3], 5: {'1':1, '2':2}}   \n",
    "print(d)"
   ]
  },
  {
   "cell_type": "code",
   "execution_count": null,
   "metadata": {
    "scrolled": true
   },
   "outputs": [],
   "source": [
    "d = {1: 'a', 'name': 'abc', [4]: [1,2,3], 5: {'1':1, '2':2}}   \n",
    "print(d)"
   ]
  },
  {
   "cell_type": "markdown",
   "metadata": {},
   "source": [
    "### Functions on Keys and Values\n",
    "\n",
    "#### dict.keys()"
   ]
  },
  {
   "cell_type": "code",
   "execution_count": null,
   "metadata": {},
   "outputs": [],
   "source": [
    "d = {'Name': \"Alice\", 'Age': 21, 'Gender': 'Male'} \n",
    "\n",
    "## To get the keys from the dictionary\n",
    "\n",
    "keys = list(d.keys())\n",
    "print(keys)"
   ]
  },
  {
   "cell_type": "code",
   "execution_count": null,
   "metadata": {},
   "outputs": [],
   "source": [
    "print(type(keys))"
   ]
  },
  {
   "cell_type": "markdown",
   "metadata": {},
   "source": [
    "#### dict.values()"
   ]
  },
  {
   "cell_type": "code",
   "execution_count": null,
   "metadata": {},
   "outputs": [],
   "source": [
    "## To get the values from the dictionary\n",
    "\n",
    "values = d.values()\n",
    "print(values)"
   ]
  },
  {
   "cell_type": "code",
   "execution_count": null,
   "metadata": {},
   "outputs": [],
   "source": [
    "print(type(values))"
   ]
  },
  {
   "cell_type": "markdown",
   "metadata": {},
   "source": [
    "#### dict.items()"
   ]
  },
  {
   "cell_type": "code",
   "execution_count": null,
   "metadata": {},
   "outputs": [],
   "source": [
    "## To get all the key:value pairs from the dictionary as tuples in a list\n",
    "\n",
    "kv = list(d.items())\n",
    "print(kv)"
   ]
  },
  {
   "cell_type": "code",
   "execution_count": null,
   "metadata": {},
   "outputs": [],
   "source": [
    "print(type(kv))"
   ]
  },
  {
   "cell_type": "code",
   "execution_count": null,
   "metadata": {},
   "outputs": [],
   "source": [
    "print(type(kv[0]))"
   ]
  },
  {
   "cell_type": "code",
   "execution_count": 1,
   "metadata": {},
   "outputs": [],
   "source": [
    "a = {'useless_key': 1, 'who_cares_about_this_key': 2, 'blah_blah': 3}"
   ]
  },
  {
   "cell_type": "code",
   "execution_count": 3,
   "metadata": {},
   "outputs": [
    {
     "name": "stdout",
     "output_type": "stream",
     "text": [
      "1\n",
      "2\n",
      "3\n"
     ]
    }
   ],
   "source": [
    "for _, values in a.items():\n",
    "    print(values)"
   ]
  },
  {
   "cell_type": "code",
   "execution_count": 7,
   "metadata": {},
   "outputs": [],
   "source": [
    "a = { True: 1, False: 0 }  # I read/write binary"
   ]
  },
  {
   "cell_type": "code",
   "execution_count": 9,
   "metadata": {},
   "outputs": [
    {
     "data": {
      "text/plain": [
       "0"
      ]
     },
     "execution_count": 9,
     "metadata": {},
     "output_type": "execute_result"
    }
   ],
   "source": [
    "a[10 > 50]"
   ]
  },
  {
   "cell_type": "markdown",
   "metadata": {},
   "source": [
    "### Exercise\n",
    "\n",
    "Write a code to get an output as:\n",
    "\n",
    "abAB <br>\n",
    "cdCD <br>\n",
    "efEF <br>\n",
    "ghGH <br>\n",
    "\n",
    "from the dict `d = {'ab': 'AB', 'cd': 'CD', 'ef': 'EF', 'gh': 'GH'}`\n"
   ]
  },
  {
   "cell_type": "code",
   "execution_count": null,
   "metadata": {},
   "outputs": [],
   "source": [
    "d = {'ab': 'AB', 'cd': 'CD', 'ef': 'EF', 'gh': 'GH'}\n",
    "# Write code here #"
   ]
  },
  {
   "cell_type": "markdown",
   "metadata": {},
   "source": [
    "### Exercise\n",
    "\n",
    "Write a code to combine two dictionaries. We have the prices of products A,B,C,D,E in two different dicts. Add the elements of first dict to the second."
   ]
  },
  {
   "cell_type": "code",
   "execution_count": null,
   "metadata": {},
   "outputs": [],
   "source": [
    "d1 = {'A': 50, 'B': 100, 'C': 40}\n",
    "d2 = {'D': 30, 'E': 75}\n",
    "# Write code here #\n",
    "print(d2)               # This should print all the elements of both the dicts."
   ]
  },
  {
   "cell_type": "markdown",
   "metadata": {},
   "source": [
    "\n",
    "#### dict.update()\n",
    "Update a dictionary with more elements"
   ]
  },
  {
   "cell_type": "code",
   "execution_count": null,
   "metadata": {},
   "outputs": [],
   "source": [
    "d = {'Name': \"Alice\", 'Age': 21, 'Gender': 'Male'} \n",
    "d.update({'Hobby': 'Sleep', 'Address': 'KGP'})\n",
    "print(d)"
   ]
  },
  {
   "cell_type": "markdown",
   "metadata": {},
   "source": [
    "### Exercise\n",
    "\n",
    "We have dict of prices of certain items. Write a code to print the price when an item is provided. If an item is not provided, print its price as 0."
   ]
  },
  {
   "cell_type": "code",
   "execution_count": null,
   "metadata": {},
   "outputs": [],
   "source": [
    "price = {'A': 30, 'B': 50, 'C': 90}\n",
    "# Write code here to print the price of A#\n",
    "##\n",
    "# Write code here to print the price of E#\n",
    "##"
   ]
  },
  {
   "cell_type": "markdown",
   "metadata": {},
   "source": [
    "__dict.get()__ <br>\n",
    "Fetch an item from a dict"
   ]
  },
  {
   "cell_type": "code",
   "execution_count": null,
   "metadata": {},
   "outputs": [],
   "source": [
    "price = {'A': 30, 'B': 50, 'C': 90}\n",
    "print(price.get('A'))"
   ]
  },
  {
   "cell_type": "code",
   "execution_count": null,
   "metadata": {},
   "outputs": [],
   "source": [
    "price = {'A': 30, 'B': 50, 'C': 90}\n",
    "print(price.get('E'))"
   ]
  },
  {
   "cell_type": "code",
   "execution_count": null,
   "metadata": {},
   "outputs": [],
   "source": [
    "price = {'A': 30, 'B': 50, 'C': 90}\n",
    "print(price.get('E', 0))"
   ]
  },
  {
   "cell_type": "markdown",
   "metadata": {},
   "source": [
    "#### Functions as keys!"
   ]
  },
  {
   "cell_type": "code",
   "execution_count": 13,
   "metadata": {},
   "outputs": [],
   "source": [
    "def a():\n",
    "    '''Python is <3'''\n",
    "    return \"Agreed!\""
   ]
  },
  {
   "cell_type": "code",
   "execution_count": 15,
   "metadata": {},
   "outputs": [],
   "source": [
    "f = {a: 4}"
   ]
  },
  {
   "cell_type": "code",
   "execution_count": 17,
   "metadata": {},
   "outputs": [
    {
     "data": {
      "text/plain": [
       "4"
      ]
     },
     "execution_count": 17,
     "metadata": {},
     "output_type": "execute_result"
    }
   ],
   "source": [
    "f[a]"
   ]
  },
  {
   "cell_type": "code",
   "execution_count": 19,
   "metadata": {},
   "outputs": [],
   "source": [
    "### This is not too useful in real life. Shown here as concept"
   ]
  },
  {
   "cell_type": "markdown",
   "metadata": {},
   "source": [
    "####  Counting unique number of words"
   ]
  },
  {
   "cell_type": "code",
   "execution_count": 20,
   "metadata": {},
   "outputs": [],
   "source": [
    "lyrics = \"\"\"Dilbar Dilbar, Haan Dilbar Dilbar\n",
    "Dilbar Dilbar, Haan Dilbar Dilbar\n",
    "Hosh Na Khabar Hai, Yeh Kaisa Asar Hai\n",
    "Hosh Na Khabar Hai, Yeh Kaisa Asar Hai\n",
    "Tumse Milne Ke Baad Dilbar\n",
    "Tumse Milne Ke Baad Dilbar\n",
    "Dard Hai Chubhan Hai, Kya Deewanapan Hai\n",
    "Dard Hai Chubhan Hai, Kya Deewanapan Hai\n",
    "Tumse Milne Ke Baad Dilbar\n",
    "Haan, Tumse Milne Ke Baad Dilbar\n",
    "Dilbar Dilbar, Haan Dilbar Dilbar\n",
    "Dilbar Dilbar, Haan Dilbar Dilbar\"\"\""
   ]
  },
  {
   "cell_type": "code",
   "execution_count": 46,
   "metadata": {},
   "outputs": [],
   "source": [
    "words = []\n",
    "\n",
    "for i in lyrics.split( ):\n",
    "    if i[::-1][0] == ',':\n",
    "        words.append(i[:-1])\n",
    "    else:\n",
    "        words.append(i)"
   ]
  },
  {
   "cell_type": "code",
   "execution_count": 47,
   "metadata": {
    "collapsed": true
   },
   "outputs": [
    {
     "data": {
      "text/plain": [
       "['Dilbar',\n",
       " 'Dilbar',\n",
       " 'Haan',\n",
       " 'Dilbar',\n",
       " 'Dilbar',\n",
       " 'Dilbar',\n",
       " 'Dilbar',\n",
       " 'Haan',\n",
       " 'Dilbar',\n",
       " 'Dilbar',\n",
       " 'Hosh',\n",
       " 'Na',\n",
       " 'Khabar',\n",
       " 'Hai',\n",
       " 'Yeh',\n",
       " 'Kaisa',\n",
       " 'Asar',\n",
       " 'Hai',\n",
       " 'Hosh',\n",
       " 'Na',\n",
       " 'Khabar',\n",
       " 'Hai',\n",
       " 'Yeh',\n",
       " 'Kaisa',\n",
       " 'Asar',\n",
       " 'Hai',\n",
       " 'Tumse',\n",
       " 'Milne',\n",
       " 'Ke',\n",
       " 'Baad',\n",
       " 'Dilbar',\n",
       " 'Tumse',\n",
       " 'Milne',\n",
       " 'Ke',\n",
       " 'Baad',\n",
       " 'Dilbar',\n",
       " 'Dard',\n",
       " 'Hai',\n",
       " 'Chubhan',\n",
       " 'Hai',\n",
       " 'Kya',\n",
       " 'Deewanapan',\n",
       " 'Hai',\n",
       " 'Dard',\n",
       " 'Hai',\n",
       " 'Chubhan',\n",
       " 'Hai',\n",
       " 'Kya',\n",
       " 'Deewanapan',\n",
       " 'Hai',\n",
       " 'Tumse',\n",
       " 'Milne',\n",
       " 'Ke',\n",
       " 'Baad',\n",
       " 'Dilbar',\n",
       " 'Haan',\n",
       " 'Tumse',\n",
       " 'Milne',\n",
       " 'Ke',\n",
       " 'Baad',\n",
       " 'Dilbar',\n",
       " 'Dilbar',\n",
       " 'Dilbar',\n",
       " 'Haan',\n",
       " 'Dilbar',\n",
       " 'Dilbar',\n",
       " 'Dilbar',\n",
       " 'Dilbar',\n",
       " 'Haan',\n",
       " 'Dilbar',\n",
       " 'Dilbar']"
      ]
     },
     "execution_count": 47,
     "metadata": {},
     "output_type": "execute_result"
    }
   ],
   "source": [
    "words"
   ]
  },
  {
   "cell_type": "code",
   "execution_count": 48,
   "metadata": {},
   "outputs": [],
   "source": [
    "unique = {}\n",
    "\n",
    "for key in words:\n",
    "    if key in unique:\n",
    "        unique[key] += 1\n",
    "    else:\n",
    "        unique[key] = 1\n",
    "    "
   ]
  },
  {
   "cell_type": "code",
   "execution_count": 49,
   "metadata": {},
   "outputs": [
    {
     "data": {
      "text/plain": [
       "{'Dilbar': 20,\n",
       " 'Haan': 5,\n",
       " 'Hosh': 2,\n",
       " 'Na': 2,\n",
       " 'Khabar': 2,\n",
       " 'Hai': 10,\n",
       " 'Yeh': 2,\n",
       " 'Kaisa': 2,\n",
       " 'Asar': 2,\n",
       " 'Tumse': 4,\n",
       " 'Milne': 4,\n",
       " 'Ke': 4,\n",
       " 'Baad': 4,\n",
       " 'Dard': 2,\n",
       " 'Chubhan': 2,\n",
       " 'Kya': 2,\n",
       " 'Deewanapan': 2}"
      ]
     },
     "execution_count": 49,
     "metadata": {},
     "output_type": "execute_result"
    }
   ],
   "source": [
    "unique    "
   ]
  },
  {
   "cell_type": "markdown",
   "metadata": {},
   "source": [
    "### Exercise\n",
    "\n",
    "Print a dict with keys from 0 to 9 and their values as their squares."
   ]
  },
  {
   "cell_type": "code",
   "execution_count": null,
   "metadata": {},
   "outputs": [],
   "source": [
    "d = {}\n",
    "# Write code here #\n",
    "print(d)"
   ]
  },
  {
   "cell_type": "markdown",
   "metadata": {},
   "source": [
    "### Use dict comprehension to achieve the above."
   ]
  },
  {
   "cell_type": "code",
   "execution_count": null,
   "metadata": {},
   "outputs": [],
   "source": [
    "d = {}\n",
    "# Write code here #\n",
    "print(d)"
   ]
  },
  {
   "cell_type": "code",
   "execution_count": null,
   "metadata": {},
   "outputs": [],
   "source": []
  }
 ],
 "metadata": {
  "kernelspec": {
   "display_name": "Python 3",
   "language": "python",
   "name": "python3"
  },
  "language_info": {
   "codemirror_mode": {
    "name": "ipython",
    "version": 3
   },
   "file_extension": ".py",
   "mimetype": "text/x-python",
   "name": "python",
   "nbconvert_exporter": "python",
   "pygments_lexer": "ipython3",
   "version": "3.6.5"
  }
 },
 "nbformat": 4,
 "nbformat_minor": 2
}
