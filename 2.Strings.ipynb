{
 "cells": [
  {
   "cell_type": "markdown",
   "metadata": {
    "colab_type": "text",
    "id": "iN-Hc_6yjTPa",
    "slideshow": {
     "slide_type": "slide"
    }
   },
   "source": [
    "## Strings\n",
    "\n",
    "### Let's get deep!"
   ]
  },
  {
   "cell_type": "markdown",
   "metadata": {
    "colab_type": "raw",
    "id": "qVm07o0ijTPh",
    "slideshow": {
     "slide_type": "slide"
    }
   },
   "source": [
    "Strings are the variable type that is used for storing text messages."
   ]
  },
  {
   "cell_type": "code",
   "execution_count": null,
   "metadata": {
    "colab": {},
    "colab_type": "code",
    "id": "NuF_DcgTjTPn",
    "slideshow": {
     "slide_type": "subslide"
    }
   },
   "outputs": [],
   "source": [
    "s = \"Hello world\"\n",
    "type(s)"
   ]
  },
  {
   "cell_type": "markdown",
   "metadata": {
    "colab_type": "raw",
    "id": "LH_b0QTkjTPy"
   },
   "source": [
    "Notice you don't get 12 which you would have got in C !"
   ]
  },
  {
   "cell_type": "code",
   "execution_count": null,
   "metadata": {
    "colab": {},
    "colab_type": "code",
    "id": "Imv97s0jjTP2",
    "slideshow": {
     "slide_type": "subslide"
    }
   },
   "outputs": [],
   "source": [
    "# length of the string: the number of characters\n",
    "len(s)"
   ]
  },
  {
   "cell_type": "code",
   "execution_count": null,
   "metadata": {
    "colab": {},
    "colab_type": "code",
    "id": "cSlPvsqIjTP-",
    "slideshow": {
     "slide_type": "subslide"
    }
   },
   "outputs": [],
   "source": [
    "s  # `s` is still the same! Strings are immutable."
   ]
  },
  {
   "cell_type": "code",
   "execution_count": null,
   "metadata": {
    "colab": {},
    "colab_type": "code",
    "id": "6G6xltLNjTQF",
    "slideshow": {
     "slide_type": "subslide"
    }
   },
   "outputs": [],
   "source": [
    "s[0]"
   ]
  },
  {
   "cell_type": "code",
   "execution_count": null,
   "metadata": {
    "colab": {},
    "colab_type": "code",
    "id": "pHPJbZXcjTQL",
    "slideshow": {
     "slide_type": "subslide"
    }
   },
   "outputs": [],
   "source": [
    "s[1]"
   ]
  },
  {
   "cell_type": "code",
   "execution_count": null,
   "metadata": {
    "colab": {},
    "colab_type": "code",
    "id": "2DK8qEOYjTQR",
    "slideshow": {
     "slide_type": "subslide"
    }
   },
   "outputs": [],
   "source": [
    "s[2], s[3], s[4]"
   ]
  },
  {
   "cell_type": "markdown",
   "metadata": {
    "colab_type": "raw",
    "id": "WyUI4pcIjTQd"
   },
   "source": [
    "Accessing Characters by Negative Index Number"
   ]
  },
  {
   "cell_type": "markdown",
   "metadata": {
    "colab_type": "raw",
    "id": "-r9e1dzpjTQe"
   },
   "source": [
    "If we have a long string and we want to pinpoint an item towards the end, we can also count backwards from the end of the string, starting at the index number -1."
   ]
  },
  {
   "cell_type": "code",
   "execution_count": null,
   "metadata": {
    "colab": {},
    "colab_type": "code",
    "id": "KUSVytyhjTQi"
   },
   "outputs": [],
   "source": [
    "ss = \"Sammy Shark!\""
   ]
  },
  {
   "cell_type": "markdown",
   "metadata": {
    "colab_type": "text",
    "id": "z2CCbnVvjTQs"
   },
   "source": [
    "![Image](./img/negative_index.png  \"image\")\n"
   ]
  },
  {
   "cell_type": "code",
   "execution_count": null,
   "metadata": {
    "colab": {},
    "colab_type": "code",
    "id": "qT3gDxpFjTQu",
    "slideshow": {
     "slide_type": "-"
    }
   },
   "outputs": [],
   "source": [
    "print(ss[-3])"
   ]
  },
  {
   "cell_type": "markdown",
   "metadata": {
    "colab_type": "text",
    "id": "4cc6ZLVwjTQ4",
    "slideshow": {
     "slide_type": "slide"
    }
   },
   "source": [
    "### String slicing\n",
    "We can extract a part of a string.\n",
    "\n",
    "Indexing starts with ```0``` and not ```1```!<br>\n",
    "**Not MATLAB XD !**"
   ]
  },
  {
   "cell_type": "code",
   "execution_count": null,
   "metadata": {
    "colab": {},
    "colab_type": "code",
    "id": "4oftj5J3jTQ5",
    "slideshow": {
     "slide_type": "slide"
    }
   },
   "outputs": [],
   "source": [
    "print(s[0:5])\n",
    "print(s[1:4])"
   ]
  },
  {
   "cell_type": "code",
   "execution_count": null,
   "metadata": {
    "colab": {},
    "colab_type": "code",
    "id": "hf0nxO0rjTQ_",
    "slideshow": {
     "slide_type": "subslide"
    }
   },
   "outputs": [],
   "source": [
    "s[:5]  # From start."
   ]
  },
  {
   "cell_type": "code",
   "execution_count": null,
   "metadata": {
    "colab": {},
    "colab_type": "code",
    "id": "fibyBgu4jTRH",
    "slideshow": {
     "slide_type": "subslide"
    }
   },
   "outputs": [],
   "source": [
    "s[6:]  # Till end."
   ]
  },
  {
   "cell_type": "code",
   "execution_count": null,
   "metadata": {
    "colab": {},
    "colab_type": "code",
    "id": "Tb_31jGHjTRP",
    "slideshow": {
     "slide_type": "subslide"
    }
   },
   "outputs": [],
   "source": [
    "s[:]  # From start and till end!"
   ]
  },
  {
   "cell_type": "code",
   "execution_count": null,
   "metadata": {
    "colab": {},
    "colab_type": "code",
    "id": "b9ifnyi9jTRX"
   },
   "outputs": [],
   "source": [
    "print(ss[-4:-1])"
   ]
  },
  {
   "cell_type": "markdown",
   "metadata": {
    "colab_type": "text",
    "id": "8GwJj11ijTRd"
   },
   "source": [
    "**Specifying Stride while Slicing Strings**"
   ]
  },
  {
   "cell_type": "code",
   "execution_count": null,
   "metadata": {
    "colab": {},
    "colab_type": "code",
    "id": "LnHJGMpojTRe"
   },
   "outputs": [],
   "source": [
    "print(ss[6:11])"
   ]
  },
  {
   "cell_type": "markdown",
   "metadata": {
    "colab_type": "raw",
    "id": "4x6oacWBjTRi"
   },
   "source": [
    "We can obtain the same results by including a third parameter with a stride of 1:"
   ]
  },
  {
   "cell_type": "code",
   "execution_count": null,
   "metadata": {
    "colab": {},
    "colab_type": "code",
    "id": "v4No4PlZjTRm"
   },
   "outputs": [],
   "source": [
    "print(ss[6:11:1])"
   ]
  },
  {
   "cell_type": "markdown",
   "metadata": {
    "colab_type": "raw",
    "id": "hvWEWJSvjTRx"
   },
   "source": [
    "So, a stride of 1 will take in every character between two index numbers of a slice. If we omit the stride parameter then Python will default with 1.\n",
    "\n",
    "If, instead, we increase the stride, we will see that characters are skipped:\n",
    "\n"
   ]
  },
  {
   "cell_type": "code",
   "execution_count": null,
   "metadata": {
    "colab": {},
    "colab_type": "code",
    "id": "ZYOtR05sjTRy"
   },
   "outputs": [],
   "source": [
    "print(ss[0:12:2])"
   ]
  },
  {
   "cell_type": "markdown",
   "metadata": {
    "colab_type": "text",
    "id": "ckXASZynjTR3",
    "slideshow": {
     "slide_type": "slide"
    }
   },
   "source": [
    "#### String concatenation and formatting"
   ]
  },
  {
   "cell_type": "code",
   "execution_count": null,
   "metadata": {
    "colab": {},
    "colab_type": "code",
    "id": "HyEmscjejTR7",
    "slideshow": {
     "slide_type": "subslide"
    }
   },
   "outputs": [],
   "source": [
    "a = \"foo\"\n",
    "b = \"bar\"\n",
    "a + b"
   ]
  },
  {
   "cell_type": "code",
   "execution_count": null,
   "metadata": {
    "colab": {},
    "colab_type": "code",
    "id": "wFCJktddjTSB",
    "slideshow": {
     "slide_type": "subslide"
    }
   },
   "outputs": [],
   "source": [
    "a + \" \"  + b"
   ]
  },
  {
   "cell_type": "markdown",
   "metadata": {
    "colab_type": "raw",
    "id": "qjYZZu7HjTSI"
   },
   "source": [
    "Be sure not to use the + operator between two different data types. \n",
    "We can’t concatenate strings and integers together, for instance. So, if we try to write:"
   ]
  },
  {
   "cell_type": "code",
   "execution_count": null,
   "metadata": {
    "colab": {},
    "colab_type": "code",
    "id": "2sdTQSfCjTSP"
   },
   "outputs": [],
   "source": [
    "print(\"Sammy\" + 27)"
   ]
  },
  {
   "cell_type": "markdown",
   "metadata": {
    "colab_type": "raw",
    "id": "HyYv2y2XjTSU"
   },
   "source": [
    "If we wanted to create the string \"Sammy27\", we could do so by putting the number 27 in quotes (\"27\") "
   ]
  },
  {
   "cell_type": "code",
   "execution_count": null,
   "metadata": {
    "colab": {},
    "colab_type": "code",
    "id": "KHn5bI7HjTSX"
   },
   "outputs": [],
   "source": [
    "print(\"Sammy\"+\"27\")"
   ]
  },
  {
   "cell_type": "markdown",
   "metadata": {
    "colab_type": "raw",
    "id": "KqCHCs6ZjTSf"
   },
   "source": [
    "Or if say "
   ]
  },
  {
   "cell_type": "code",
   "execution_count": null,
   "metadata": {
    "colab": {},
    "colab_type": "code",
    "id": "RRN3Wc_cjTSg"
   },
   "outputs": [],
   "source": [
    "var=27"
   ]
  },
  {
   "cell_type": "code",
   "execution_count": null,
   "metadata": {
    "colab": {},
    "colab_type": "code",
    "id": "9xQVdpRYjTSl"
   },
   "outputs": [],
   "source": [
    "print(\"Sammy\"+str(var))"
   ]
  },
  {
   "cell_type": "markdown",
   "metadata": {
    "colab_type": "text",
    "id": "Dlfomh-NjTSt"
   },
   "source": [
    "### String Replication"
   ]
  },
  {
   "cell_type": "markdown",
   "metadata": {
    "colab_type": "raw",
    "id": "ER9SrS11jTSu"
   },
   "source": [
    "When used with one string and one integer, * is the string replication operator, repeating a single string however many times you would like through the integer you provide.\n",
    "\n",
    "Let’s print out “Orko_” 9 times without typing out “Orko_” 9 times with the * operator:"
   ]
  },
  {
   "cell_type": "code",
   "execution_count": null,
   "metadata": {
    "colab": {},
    "colab_type": "code",
    "id": "vIU3RCFdjTSx"
   },
   "outputs": [],
   "source": [
    "print(\"Orko_\" * 9)"
   ]
  },
  {
   "cell_type": "markdown",
   "metadata": {
    "colab_type": "text",
    "id": "oNQXNsHdjTS2"
   },
   "source": [
    "## Formatting Text in Python"
   ]
  },
  {
   "cell_type": "markdown",
   "metadata": {
    "colab_type": "raw",
    "id": "mqkobk0KjTS4"
   },
   "source": [
    "Declare with Single or Double Matching Quotes"
   ]
  },
  {
   "cell_type": "code",
   "execution_count": null,
   "metadata": {
    "colab": {},
    "colab_type": "code",
    "id": "xIXEOIgtjTS6"
   },
   "outputs": [],
   "source": [
    "'Metakgp says, \"Hello!\"'"
   ]
  },
  {
   "cell_type": "code",
   "execution_count": null,
   "metadata": {
    "colab": {},
    "colab_type": "code",
    "id": "pjbkRkWHjTTA"
   },
   "outputs": [],
   "source": [
    "\"Metakgp's projects are great.\""
   ]
  },
  {
   "cell_type": "markdown",
   "metadata": {
    "colab_type": "raw",
    "id": "CfLl5ZRTjTTD"
   },
   "source": [
    "Multiple Line Strings"
   ]
  },
  {
   "cell_type": "markdown",
   "metadata": {
    "colab_type": "raw",
    "id": "xbigQHDDjTTF"
   },
   "source": [
    "Why?\n",
    "Human Readability!"
   ]
  },
  {
   "cell_type": "markdown",
   "metadata": {
    "colab_type": "raw",
    "id": "67CeUHp7jTTG"
   },
   "source": [
    "Robert wanted to write a Poem, but wait !"
   ]
  },
  {
   "cell_type": "code",
   "execution_count": null,
   "metadata": {
    "colab": {},
    "colab_type": "code",
    "id": "24Zox-xQjTTH"
   },
   "outputs": [],
   "source": [
    "poem=\"Two roads diverged in a yellow wood,\n",
    "And sorry I could not travel both\n",
    "And be one traveler, long I stood\n",
    "And looked down one as far as I could\n",
    "To where it bent in the undergrowth;\n",
    "\""
   ]
  },
  {
   "cell_type": "code",
   "execution_count": null,
   "metadata": {
    "colab": {},
    "colab_type": "code",
    "id": "82xfw505jTTM"
   },
   "outputs": [],
   "source": [
    "poem='''\n",
    "Two roads diverged in a yellow wood,\n",
    "And sorry I could not travel both\n",
    "And be one traveler, long I stood\n",
    "And looked down one as far as I could\n",
    "To where it bent in the undergrowth;\n",
    "'''"
   ]
  },
  {
   "cell_type": "code",
   "execution_count": null,
   "metadata": {
    "colab": {},
    "colab_type": "code",
    "id": "Hd2c2NV1jTTP"
   },
   "outputs": [],
   "source": [
    "print(poem)"
   ]
  },
  {
   "cell_type": "markdown",
   "metadata": {
    "colab_type": "raw",
    "id": "mtZqDSq0jTTR"
   },
   "source": [
    "Escape Characters"
   ]
  },
  {
   "cell_type": "markdown",
   "metadata": {
    "colab_type": "text",
    "id": "39iDb8a9jTTR"
   },
   "source": [
    "![Image](./img/escape_character.png  \"image\")\n",
    "\n"
   ]
  },
  {
   "cell_type": "markdown",
   "metadata": {
    "colab_type": "raw",
    "id": "PtavxRqAjTTS"
   },
   "source": [
    "Let’s use an escape character to add the quotation marks to the example on quotation marks above, but this time we’ll use double quotes:"
   ]
  },
  {
   "cell_type": "code",
   "execution_count": null,
   "metadata": {
    "colab": {},
    "colab_type": "code",
    "id": "QJCUE5ArjTTT"
   },
   "outputs": [],
   "source": [
    "print(\"Pat's dog says, \"Hello!\\\"\")"
   ]
  },
  {
   "cell_type": "code",
   "execution_count": null,
   "metadata": {
    "colab": {},
    "colab_type": "code",
    "id": "hUqDUvsSjTTW"
   },
   "outputs": [],
   "source": [
    "print('Pat's dog says, \"Hello!\\\"')"
   ]
  },
  {
   "cell_type": "code",
   "execution_count": null,
   "metadata": {
    "colab": {},
    "colab_type": "code",
    "id": "Cge7qvcnjTTa"
   },
   "outputs": [],
   "source": [
    "print(\"Pat's dog says, \\\"Hello!\\\"\")"
   ]
  },
  {
   "cell_type": "markdown",
   "metadata": {
    "colab_type": "raw",
    "id": "2cUc4omljTTd"
   },
   "source": [
    "Exercise : Put them in single quotes!"
   ]
  },
  {
   "cell_type": "code",
   "execution_count": null,
   "metadata": {
    "colab": {},
    "colab_type": "code",
    "id": "KBQH3AgEjTTg"
   },
   "outputs": [],
   "source": [
    "print('Pat\\'s dog says, \"Hello!\\\"')"
   ]
  },
  {
   "cell_type": "markdown",
   "metadata": {
    "colab_type": "text",
    "id": "tVG9nwOKjTTj"
   },
   "source": [
    "## Raw Strings\n",
    "What if we don’t want special formatting within our strings? For example, we may need to compare or evaluate strings of computer code that use the backslash on purpose, so we won’t want Python to use it as an escape character.\n",
    "\n",
    "A raw string tells Python to ignore all formatting within a string, including escape characters.\n",
    "\n",
    "We create a raw string by putting an r in front of the string, right before the beginning quotation mark:\n",
    "\n"
   ]
  },
  {
   "cell_type": "code",
   "execution_count": null,
   "metadata": {
    "colab": {},
    "colab_type": "code",
    "id": "eCYm3-DUjTTj"
   },
   "outputs": [],
   "source": [
    "print(\"This is \\x61 \\ngood example\")"
   ]
  },
  {
   "cell_type": "code",
   "execution_count": null,
   "metadata": {
    "colab": {},
    "colab_type": "code",
    "id": "brOd6ZjjjTTn"
   },
   "outputs": [],
   "source": [
    "print(r\"This is \\x61 \\ngood example\")"
   ]
  },
  {
   "cell_type": "markdown",
   "metadata": {
    "colab_type": "text",
    "id": "Y6kPvczXjTTu"
   },
   "source": [
    "## String Formatting"
   ]
  },
  {
   "cell_type": "markdown",
   "metadata": {
    "colab_type": "text",
    "id": "WBsPu2gEjTTv"
   },
   "source": [
    "![Image](./img/format.png \"image\")"
   ]
  },
  {
   "cell_type": "code",
   "execution_count": null,
   "metadata": {
    "colab": {},
    "colab_type": "code",
    "id": "kffp5qn3jTTw"
   },
   "outputs": [],
   "source": [
    "print(\"Hunter has {} MacBooks.\".format(3))"
   ]
  },
  {
   "cell_type": "markdown",
   "metadata": {
    "colab_type": "raw",
    "id": "xT9RznAgjTTy"
   },
   "source": [
    "We can also assign a variable to be equal to the value of a string that has formatter placeholders:"
   ]
  },
  {
   "cell_type": "code",
   "execution_count": null,
   "metadata": {
    "colab": {},
    "colab_type": "code",
    "id": "sPG5BGkDjTTy"
   },
   "outputs": [],
   "source": [
    "open_string = \"We love {}.\"\n",
    "print(open_string.format(\"Open Source\"))"
   ]
  },
  {
   "cell_type": "markdown",
   "metadata": {
    "colab_type": "text",
    "id": "YWYgc0R_jTT-"
   },
   "source": [
    "### Using Formatters with Multiple Placeholders\n"
   ]
  },
  {
   "cell_type": "code",
   "execution_count": null,
   "metadata": {
    "colab": {},
    "colab_type": "code",
    "id": "omKY_86FjTT_"
   },
   "outputs": [],
   "source": [
    "new_open_string = \"We love {} {}.\"                          #2 {} placeholders\n",
    "print(new_open_string.format(\"open-source\", \"software\"))    #Pass 2 strings into method, separated by a comma"
   ]
  },
  {
   "cell_type": "markdown",
   "metadata": {
    "colab_type": "raw",
    "id": "ZZ5mqVnVjTUC"
   },
   "source": [
    "Keyword Arguments"
   ]
  },
  {
   "cell_type": "code",
   "execution_count": null,
   "metadata": {
    "colab": {},
    "colab_type": "code",
    "id": "nGgl9OoSjTUD"
   },
   "outputs": [],
   "source": [
    "print(\"Orko the {0} has a pet {1}!\".format(\"Hunter\", \"cat\"))"
   ]
  },
  {
   "cell_type": "code",
   "execution_count": null,
   "metadata": {
    "colab": {},
    "colab_type": "code",
    "id": "PhdWzNu2jTUG"
   },
   "outputs": [],
   "source": [
    "print(\"Orko the {1} has a pet {0}!\".format(\"Hunter\", \"cat\"))"
   ]
  },
  {
   "cell_type": "markdown",
   "metadata": {
    "colab_type": "text",
    "id": "g6EZkpOJjTUI"
   },
   "source": [
    "### Keyword arguments in format"
   ]
  },
  {
   "cell_type": "code",
   "execution_count": null,
   "metadata": {
    "colab": {},
    "colab_type": "code",
    "id": "anZ0SjdajTUJ"
   },
   "outputs": [],
   "source": [
    "print(\"Octo the {0} {1} a {pr}.\".format(\"cat\", \"made\", pr = \"pull request\"))"
   ]
  },
  {
   "cell_type": "markdown",
   "metadata": {
    "colab_type": "text",
    "id": "rJvF4ME4jTUK"
   },
   "source": [
    "### Alligning them !"
   ]
  },
  {
   "cell_type": "markdown",
   "metadata": {
    "colab_type": "raw",
    "id": "-2GhPZ1XjTUL"
   },
   "source": [
    "By default strings are left-justified within the field, and numbers are right-justified."
   ]
  },
  {
   "cell_type": "markdown",
   "metadata": {
    "colab_type": "text",
    "id": "K6-6TXIwjTUM"
   },
   "source": [
    "**You can modify this by placing an alignment code just following the colon. `<` will left-align the text in a field, `^` will center the text in the field, and `>` will right-align it.**"
   ]
  },
  {
   "cell_type": "code",
   "execution_count": null,
   "metadata": {
    "colab": {},
    "colab_type": "code",
    "id": "1fiCZTEFjTUM"
   },
   "outputs": [],
   "source": [
    "print(\"Sammy has {0:<5} red {1:^10}!\".format(5, \"balloons\"))"
   ]
  },
  {
   "cell_type": "markdown",
   "metadata": {
    "colab_type": "text",
    "id": "X3Hfb7smjTUO"
   },
   "source": [
    "## Specifying Type\n",
    "We can include more parameters within the curly braces of our syntax. We’ll use the format code syntax {`field_name`:`conversion`}, where **field_name** specifies the index number of the argument to the `str.format()` method that we went through in the reordering section, and **conversion** refers to the conversion code of the data type that you’re using with the formatter."
   ]
  },
  {
   "cell_type": "code",
   "execution_count": null,
   "metadata": {
    "colab": {},
    "colab_type": "code",
    "id": "ElFybY_4jTUP"
   },
   "outputs": [],
   "source": [
    "print(\"Sammy ate {0:f} percent of a {1}!\".format(75, \"pizza\"))"
   ]
  },
  {
   "cell_type": "code",
   "execution_count": null,
   "metadata": {
    "colab": {},
    "colab_type": "code",
    "id": "yNZV60tnjTUY"
   },
   "outputs": [],
   "source": [
    "print(\"Sammy ate {0:.3f} percent of a pizza!\".format(75.765367))"
   ]
  },
  {
   "cell_type": "code",
   "execution_count": null,
   "metadata": {
    "colab": {},
    "colab_type": "code",
    "id": "hkpPE6bSjTUa"
   },
   "outputs": [],
   "source": [
    "print(\"Sammy ate {0:d} percent of a pizza!\".format(75.165367))\n"
   ]
  },
  {
   "cell_type": "markdown",
   "metadata": {
    "colab_type": "text",
    "id": "imFYBescjTUc"
   },
   "source": [
    "***If you would like no decimal places to be shown, you can write your formatter like so:***"
   ]
  },
  {
   "cell_type": "code",
   "execution_count": null,
   "metadata": {
    "colab": {},
    "colab_type": "code",
    "id": "eyDDZF4xjTUc"
   },
   "outputs": [],
   "source": [
    "print(\"Sammy ate {0:.0f} percent of a pizza!\".format(75.165367))"
   ]
  },
  {
   "cell_type": "markdown",
   "metadata": {
    "colab_type": "text",
    "id": "sZZULl3pjTUd",
    "slideshow": {
     "slide_type": "slide"
    }
   },
   "source": [
    "## Important string functions"
   ]
  },
  {
   "cell_type": "markdown",
   "metadata": {
    "colab_type": "text",
    "id": "j--vXfxgjTUf"
   },
   "source": [
    "### lstrip()"
   ]
  },
  {
   "cell_type": "markdown",
   "metadata": {
    "colab_type": "raw",
    "id": "ZMjiuyzSjTUf"
   },
   "source": [
    "The lstrip() removes characters from the left based on the argument (a string specifying the set of characters to be removed)."
   ]
  },
  {
   "cell_type": "code",
   "execution_count": null,
   "metadata": {
    "colab": {},
    "colab_type": "code",
    "id": "jejib3oLjTUf"
   },
   "outputs": [],
   "source": [
    "random_string = '   this is good '"
   ]
  },
  {
   "cell_type": "code",
   "execution_count": null,
   "metadata": {
    "colab": {},
    "colab_type": "code",
    "id": "uiZ7-9AXjTUj"
   },
   "outputs": [],
   "source": [
    "# Leading whitepsace are removed\n",
    "print(random_string.lstrip())"
   ]
  },
  {
   "cell_type": "code",
   "execution_count": null,
   "metadata": {
    "colab": {},
    "colab_type": "code",
    "id": "-DekDOdmjTUn"
   },
   "outputs": [],
   "source": [
    "# Argument doesn't contain space\n",
    "# No characters are removed.\n",
    "print(random_string.lstrip('sti'))"
   ]
  },
  {
   "cell_type": "code",
   "execution_count": null,
   "metadata": {
    "colab": {},
    "colab_type": "code",
    "id": "iwx4tY8CjTUs"
   },
   "outputs": [],
   "source": [
    "print(random_string.lstrip('s ti'))"
   ]
  },
  {
   "cell_type": "code",
   "execution_count": null,
   "metadata": {
    "colab": {},
    "colab_type": "code",
    "id": "NaY4DUgAjTUu"
   },
   "outputs": [],
   "source": [
    "website = 'https://kwoc.kossiitkgp.in/summit'\n",
    "print(website.lstrip('htps:/.'))"
   ]
  },
  {
   "cell_type": "markdown",
   "metadata": {
    "colab_type": "text",
    "id": "IvL-It6IjTUz"
   },
   "source": [
    "### rstrip()"
   ]
  },
  {
   "cell_type": "markdown",
   "metadata": {
    "colab_type": "raw",
    "id": "3N5F5-bkjTU2"
   },
   "source": [
    "rstrip() returns a copy of the string with trailing characters stripped."
   ]
  },
  {
   "cell_type": "code",
   "execution_count": null,
   "metadata": {
    "colab": {},
    "colab_type": "code",
    "id": "P8DPe__-jTU2"
   },
   "outputs": [],
   "source": [
    "# Leading whitepsace are removed\n",
    "print(random_string.rstrip())"
   ]
  },
  {
   "cell_type": "code",
   "execution_count": null,
   "metadata": {
    "colab": {},
    "colab_type": "code",
    "id": "c_HICgLjjTU4"
   },
   "outputs": [],
   "source": [
    "# Argument doesn't contain 'd'\n",
    "# No characters are removed.\n",
    "print(random_string.rstrip('si oo'))"
   ]
  },
  {
   "cell_type": "code",
   "execution_count": null,
   "metadata": {
    "colab": {},
    "colab_type": "code",
    "id": "-fdT1KdOjTU7"
   },
   "outputs": [],
   "source": [
    "print(random_string.rstrip('sid oo'))"
   ]
  },
  {
   "cell_type": "code",
   "execution_count": null,
   "metadata": {
    "colab": {},
    "colab_type": "code",
    "id": "gFPTvKyDjTU9"
   },
   "outputs": [],
   "source": [
    "website = 'https://kwoc.kossiitkgp.in/summit'\n",
    "print(website.rstrip('m/.'))"
   ]
  },
  {
   "cell_type": "markdown",
   "metadata": {
    "colab_type": "text",
    "id": "jqHs9RYwjTVC",
    "slideshow": {
     "slide_type": "slide"
    }
   },
   "source": [
    "### strip()\n",
    "\n",
    "Removes the whitespaces from the ends of a string."
   ]
  },
  {
   "cell_type": "code",
   "execution_count": null,
   "metadata": {
    "colab": {},
    "colab_type": "code",
    "id": "UJ_soQRIjTVC"
   },
   "outputs": [],
   "source": [
    "string = ' xoxo love xoxo   '"
   ]
  },
  {
   "cell_type": "code",
   "execution_count": null,
   "metadata": {
    "colab": {},
    "colab_type": "code",
    "id": "8yjUeX1WjTVD"
   },
   "outputs": [],
   "source": [
    "# Leading whitepsace are removed\n",
    "print(string.strip())"
   ]
  },
  {
   "cell_type": "code",
   "execution_count": null,
   "metadata": {
    "colab": {},
    "colab_type": "code",
    "id": "lPpgHQERjTVF"
   },
   "outputs": [],
   "source": [
    "print(string.strip(' xoxoe'))"
   ]
  },
  {
   "cell_type": "code",
   "execution_count": null,
   "metadata": {
    "colab": {},
    "colab_type": "code",
    "id": "CJ5P3kLhjTVI"
   },
   "outputs": [],
   "source": [
    "# Argument doesn't contain space\n",
    "# No characters are removed.\n",
    "print(string.strip('sti'))"
   ]
  },
  {
   "cell_type": "code",
   "execution_count": null,
   "metadata": {
    "colab": {},
    "colab_type": "code",
    "id": "W1MVSu4xjTVJ"
   },
   "outputs": [],
   "source": [
    "string = 'android is awesome'\n",
    "print(string.strip('an'))"
   ]
  },
  {
   "cell_type": "markdown",
   "metadata": {
    "colab_type": "text",
    "id": "d6v6GsmLjTVK",
    "slideshow": {
     "slide_type": "slide"
    }
   },
   "source": [
    "### split()\n",
    "Splits the string into a list according to the passed delimiter"
   ]
  },
  {
   "cell_type": "code",
   "execution_count": null,
   "metadata": {
    "colab": {},
    "colab_type": "code",
    "id": "E8Pw-LGKjTVL"
   },
   "outputs": [],
   "source": [
    "text= 'Love thy neighbor'\n",
    "\n",
    "# splits at space\n",
    "print(text.split())"
   ]
  },
  {
   "cell_type": "code",
   "execution_count": null,
   "metadata": {
    "colab": {},
    "colab_type": "code",
    "id": "YyvGRei4jTVN"
   },
   "outputs": [],
   "source": [
    "grocery = 'Milk, Chicken, Bread'"
   ]
  },
  {
   "cell_type": "code",
   "execution_count": null,
   "metadata": {
    "colab": {},
    "colab_type": "code",
    "id": "4Xyet9BbjTVQ"
   },
   "outputs": [],
   "source": [
    "# splits at ','\n",
    "print(grocery.split(', '))"
   ]
  },
  {
   "cell_type": "code",
   "execution_count": null,
   "metadata": {
    "colab": {},
    "colab_type": "code",
    "id": "ScwyUYeGjTVX"
   },
   "outputs": [],
   "source": [
    "# Splitting at ':'\n",
    "print(grocery.split(':'))"
   ]
  },
  {
   "cell_type": "markdown",
   "metadata": {
    "colab_type": "text",
    "id": "-BLB8OXsjTVY"
   },
   "source": [
    "## splitlines"
   ]
  },
  {
   "cell_type": "markdown",
   "metadata": {
    "colab_type": "raw",
    "id": "RcnRpW7bjTVZ"
   },
   "source": [
    "The splitlines() splits on the following line boundaries:"
   ]
  },
  {
   "cell_type": "markdown",
   "metadata": {
    "colab_type": "text",
    "id": "ZKV7wR0-jTVa"
   },
   "source": [
    "![Image](./img/splitlines.png \"Image\")"
   ]
  },
  {
   "cell_type": "code",
   "execution_count": null,
   "metadata": {
    "colab": {},
    "colab_type": "code",
    "id": "sguGDBa9jTVa"
   },
   "outputs": [],
   "source": [
    "grocery = 'Milk\\nChicken\\r\\nBread\\rButter'\n",
    "\n",
    "print(grocery.splitlines())\n",
    "print(grocery.splitlines(True))\n",
    "\n",
    "grocery = 'Milk Chicken Bread Butter'\n",
    "print(grocery.splitlines())"
   ]
  },
  {
   "cell_type": "markdown",
   "metadata": {
    "colab_type": "text",
    "id": "xaPqhOAVjTVe"
   },
   "source": [
    "## str.replace()"
   ]
  },
  {
   "cell_type": "markdown",
   "metadata": {
    "colab_type": "raw",
    "id": "tDFpIQqTjTVe"
   },
   "source": [
    "Takes original string and returns an updated string with some replacement."
   ]
  },
  {
   "cell_type": "code",
   "execution_count": null,
   "metadata": {
    "colab": {},
    "colab_type": "code",
    "id": "0XxO116CjTVe"
   },
   "outputs": [],
   "source": [
    "balloon = \"Sammy has a balloon.\""
   ]
  },
  {
   "cell_type": "code",
   "execution_count": null,
   "metadata": {
    "colab": {},
    "colab_type": "code",
    "id": "ZgQ8EYEPjTVj"
   },
   "outputs": [],
   "source": [
    "print(balloon.replace(\"has\",\"had\"))"
   ]
  },
  {
   "cell_type": "markdown",
   "metadata": {
    "colab_type": "text",
    "id": "ZjsedB68jTVk"
   },
   "source": [
    "### Making Strings Upper and Lower Case"
   ]
  },
  {
   "cell_type": "code",
   "execution_count": null,
   "metadata": {
    "colab": {},
    "colab_type": "code",
    "id": "nIgWYheZjTVl"
   },
   "outputs": [],
   "source": [
    "ss = \"Sammy Shark\"\n",
    "print(ss.upper())"
   ]
  },
  {
   "cell_type": "code",
   "execution_count": null,
   "metadata": {
    "colab": {},
    "colab_type": "code",
    "id": "0vcThYBNjTVl"
   },
   "outputs": [],
   "source": [
    "print(ss.lower())"
   ]
  },
  {
   "cell_type": "markdown",
   "metadata": {
    "colab_type": "raw",
    "id": "0wFMKnm-jTVn"
   },
   "source": [
    "Boolean Methods on Strings"
   ]
  },
  {
   "cell_type": "markdown",
   "metadata": {
    "colab_type": "text",
    "id": "NN9ycHfEjTVv"
   },
   "source": [
    "![img](./img/string_boolean.png \"img\")"
   ]
  },
  {
   "cell_type": "code",
   "execution_count": null,
   "metadata": {
    "colab": {},
    "colab_type": "code",
    "id": "7U7qMiORjTVw"
   },
   "outputs": [],
   "source": [
    "number = \"5\"\n",
    "letters = \"abcdef\"\n",
    "\n",
    "print(number.isnumeric())\n",
    "print(letters.isnumeric())"
   ]
  },
  {
   "cell_type": "markdown",
   "metadata": {
    "colab_type": "text",
    "id": "ozdlqS2hjTVz"
   },
   "source": [
    "### join(), split(), and replace() Methods"
   ]
  },
  {
   "cell_type": "markdown",
   "metadata": {
    "colab_type": "raw",
    "id": "Tr8rF5tPjTV2"
   },
   "source": [
    "The str.join() method will concatenate two strings.\n",
    "It passes one string to other!"
   ]
  },
  {
   "cell_type": "markdown",
   "metadata": {
    "colab_type": "raw",
    "id": "z75mCZxHjTV3"
   },
   "source": [
    "The join() method returns a string concatenated with the elements of an iterable."
   ]
  },
  {
   "cell_type": "markdown",
   "metadata": {
    "colab_type": "raw",
    "id": "qteYKOtKjTV4"
   },
   "source": [
    "Creating a string :"
   ]
  },
  {
   "cell_type": "code",
   "execution_count": null,
   "metadata": {
    "colab": {},
    "colab_type": "code",
    "id": "79RTlbwtjTV5"
   },
   "outputs": [],
   "source": [
    "laptop = \"Orko has a lappy.\""
   ]
  },
  {
   "cell_type": "code",
   "execution_count": null,
   "metadata": {
    "colab": {},
    "colab_type": "code",
    "id": "2iTlkpNqjTV8"
   },
   "outputs": [],
   "source": [
    "print(\" \".join(laptop))"
   ]
  },
  {
   "cell_type": "code",
   "execution_count": null,
   "metadata": {
    "colab": {},
    "colab_type": "code",
    "id": "UcZAv7Q7jTWD"
   },
   "outputs": [],
   "source": [
    "numList = ['1', '2', '3', '4']\n",
    "seperator = ', '\n",
    "print(seperator.join(numList))"
   ]
  },
  {
   "cell_type": "code",
   "execution_count": null,
   "metadata": {
    "colab": {},
    "colab_type": "code",
    "id": "8QrVTL9njTWH"
   },
   "outputs": [],
   "source": [
    "numTuple = ('1', '2', '3', '4')\n",
    "print(seperator.join(numTuple))"
   ]
  },
  {
   "cell_type": "code",
   "execution_count": null,
   "metadata": {
    "colab": {},
    "colab_type": "code",
    "id": "plM9-EDtjTWM"
   },
   "outputs": [],
   "source": [
    "s1 = 'abc'\n",
    "s2 = '123'"
   ]
  },
  {
   "cell_type": "code",
   "execution_count": null,
   "metadata": {
    "colab": {},
    "colab_type": "code",
    "id": "hEnfQm9QjTWO"
   },
   "outputs": [],
   "source": [
    "\"\"\" Each character of s2 is concatenated to the front of s1\"\"\" on\n",
    "print('s1.join(s2):', s1.join(s2))"
   ]
  },
  {
   "cell_type": "code",
   "execution_count": null,
   "metadata": {
    "colab": {},
    "colab_type": "code",
    "id": "Aw8e7iK7jTWQ"
   },
   "outputs": [],
   "source": [
    "\"\"\" Each character of s1 is concatenated to the front of s2\"\"\" \n",
    "print('s2.join(s1):', s2.join(s1))"
   ]
  },
  {
   "cell_type": "markdown",
   "metadata": {
    "colab_type": "text",
    "id": "aMXPxyVLjTWS"
   },
   "source": [
    "### Some Hands-on!"
   ]
  },
  {
   "cell_type": "markdown",
   "metadata": {
    "colab": {},
    "colab_type": "code",
    "id": "Yhw5Dg-ojTWS"
   },
   "source": [
    "## Question\n",
    "\n",
    "Take a string and check if it's palindrome."
   ]
  },
  {
   "cell_type": "code",
   "execution_count": null,
   "metadata": {},
   "outputs": [],
   "source": [
    "# name = "
   ]
  },
  {
   "cell_type": "markdown",
   "metadata": {},
   "source": [
    "## Question\n",
    "\n",
    "Reverse the word order of a sentence"
   ]
  },
  {
   "cell_type": "code",
   "execution_count": null,
   "metadata": {},
   "outputs": [],
   "source": [
    "sen = \"Python is awesome\"\n",
    "# Your code"
   ]
  },
  {
   "cell_type": "markdown",
   "metadata": {},
   "source": [
    "## Question\n",
    "\n",
    "Check if a Substring is Present in a Given String"
   ]
  },
  {
   "cell_type": "code",
   "execution_count": null,
   "metadata": {},
   "outputs": [],
   "source": [
    "string = \"Sandeep Kumar Mishra\"\n",
    "sub = \"deep\"\n",
    "\n",
    "# Your code"
   ]
  },
  {
   "cell_type": "markdown",
   "metadata": {},
   "source": [
    "## Question\n",
    "\n",
    "Check if the characters in a substring are present in a Given String"
   ]
  },
  {
   "cell_type": "code",
   "execution_count": null,
   "metadata": {},
   "outputs": [],
   "source": [
    "string = \"Parth Vader\"\n",
    "sub = \"darth\"\n",
    "\n",
    "# Your code"
   ]
  },
  {
   "cell_type": "markdown",
   "metadata": {},
   "source": [
    "## Question\n",
    "\n",
    "Check if a string contains repeated halves. (Assume the string's length is even)"
   ]
  },
  {
   "cell_type": "code",
   "execution_count": null,
   "metadata": {},
   "outputs": [],
   "source": [
    "string = \"BonBon\"  # Contains repeated halves\n",
    "\n",
    "# Your code"
   ]
  }
 ],
 "metadata": {
  "colab": {
   "name": "2.Strings.ipynb",
   "provenance": [],
   "version": "0.3.2"
  },
  "kernelspec": {
   "display_name": "Python 3",
   "language": "python",
   "name": "python3"
  },
  "language_info": {
   "codemirror_mode": {
    "name": "ipython",
    "version": 3
   },
   "file_extension": ".py",
   "mimetype": "text/x-python",
   "name": "python",
   "nbconvert_exporter": "python",
   "pygments_lexer": "ipython3",
   "version": "3.6.3"
  }
 },
 "nbformat": 4,
 "nbformat_minor": 1
}
