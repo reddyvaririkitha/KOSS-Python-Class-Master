{
 "cells": [
  {
   "cell_type": "markdown",
   "metadata": {},
   "source": [
    "# Python 101\n",
    "\n",
    "#### Presented by:\n",
    "\n",
    "Himanshu Mishra | Kshitij Saraogi\n",
    "\n",
    "#### Organized by:\n",
    "```\n",
    "Your friendly neighbourhood,\n",
    "KOSS\n",
    "```\n",
    "### AKA: How we would have liked to get started with Python!"
   ]
  },
  {
   "cell_type": "markdown",
   "metadata": {},
   "source": [
    "# What are we going to learn today ?\n",
    "\n",
    "\n",
    "- How to program in Python language?\n",
    "- What is the Python language and why is there a buzz about it?\n",
    "\n",
    "\n",
    "Topics covered in today's class:\n",
    "    - Using Python Interactive shell (REPL)\n",
    "    - Writing Python Scripts\n",
    "    - Fundamental knowledge about the basic types in Python\n",
    "    - Defining Functions and calling them\n",
    "    \n",
    "By the end of the session, I would like everyone to be comfortable with these concepts as they are the basis of future topics."
   ]
  },
  {
   "cell_type": "markdown",
   "metadata": {},
   "source": [
    "# How to Write and Run Python Code\n",
    "\n",
    "There are two ways to run Python code:\n",
    "    1. interactive mode\n",
    "    2. script mode\n"
   ]
  },
  {
   "cell_type": "markdown",
   "metadata": {},
   "source": [
    "## Interactive Mode\n",
    "\n",
    "In interactive mode, you type Python code and the interpreter displays the result.\n",
    "This is the Python REPL (Read-Eval-Print Loop)."
   ]
  },
  {
   "cell_type": "code",
   "execution_count": 1,
   "metadata": {
    "collapsed": false
   },
   "outputs": [
    {
     "name": "stdout",
     "output_type": "stream",
     "text": [
      "Hello, World! This is my first line of Python\n"
     ]
    }
   ],
   "source": [
    "print('Hello, World! This is my first line of Python')"
   ]
  },
  {
   "cell_type": "markdown",
   "metadata": {},
   "source": [
    "## Script Mode\n",
    "\n",
    "In script mode, you store the code in a file that ends with \".py\".\n",
    "\n",
    "Copy the above line of code in a file called **hello_world.py**.\n",
    "To execute the code in the file, you would type **$ python first_program.py** in a command window.\n",
    "\n",
    "You should save your code as a script if you are writing anything more than a few lines."
   ]
  },
  {
   "cell_type": "markdown",
   "metadata": {},
   "source": [
    "# Types and Variables\n",
    "\n",
    "### What is a type ?\n",
    "\n",
    "- Something that stores your data as a value.\n",
    "\n",
    "Fundamentally, there are only 2 types of types(aka data structures) in Python:\n",
    "    - Mutable: which can be updated after their creation | Ex: list, dict, set\n",
    "    - Immutable: which cannot be modified after their creation | Ex: int, float, bool, string, tuple\n",
    "    \n",
    "### What is a variable ?\n",
    "\n",
    "- An entity that refers to a value stored in memory.\n",
    "- Convention for naming variables"
   ]
  },
  {
   "cell_type": "code",
   "execution_count": 2,
   "metadata": {
    "collapsed": false
   },
   "outputs": [
    {
     "name": "stdout",
     "output_type": "stream",
     "text": [
      "9\n",
      "1\n",
      "20\n",
      "1.25\n",
      "625\n",
      "1\n"
     ]
    }
   ],
   "source": [
    "int1 = 5\n",
    "int2 = 4\n",
    "print(int1 + int2)\n",
    "print(int1 - int2)\n",
    "print(int1 * int2)\n",
    "print(int1 / int2)\n",
    "print(int1 ** int2)\n",
    "print(int1 % int2)"
   ]
  },
  {
   "cell_type": "code",
   "execution_count": 3,
   "metadata": {
    "collapsed": false
   },
   "outputs": [
    {
     "name": "stdout",
     "output_type": "stream",
     "text": [
      "0.43999999999999995\n"
     ]
    }
   ],
   "source": [
    "float1, float2 = 3.14, 2.7\n",
    "print(float1 - float2)"
   ]
  },
  {
   "cell_type": "code",
   "execution_count": 4,
   "metadata": {
    "collapsed": false
   },
   "outputs": [
    {
     "name": "stdout",
     "output_type": "stream",
     "text": [
      "2.5\n",
      "2.5\n",
      "2\n"
     ]
    }
   ],
   "source": [
    "print(5/2)\n",
    "print(5.0/2)\n",
    "print(5//2)"
   ]
  },
  {
   "cell_type": "code",
   "execution_count": 5,
   "metadata": {
    "collapsed": false
   },
   "outputs": [
    {
     "name": "stdout",
     "output_type": "stream",
     "text": [
      "True\n"
     ]
    }
   ],
   "source": [
    "flag = True\n",
    "print(flag)"
   ]
  },
  {
   "cell_type": "code",
   "execution_count": 6,
   "metadata": {
    "collapsed": false
   },
   "outputs": [
    {
     "name": "stdout",
     "output_type": "stream",
     "text": [
      "Kshitij\n"
     ]
    }
   ],
   "source": [
    "name = 'Kshitij' # \"name\" is a variable which stores a value of type \"string\"\n",
    "print(name)"
   ]
  },
  {
   "cell_type": "code",
   "execution_count": 7,
   "metadata": {
    "collapsed": false
   },
   "outputs": [
    {
     "data": {
      "text/plain": [
       "int"
      ]
     },
     "execution_count": 7,
     "metadata": {},
     "output_type": "execute_result"
    }
   ],
   "source": [
    "type(7)"
   ]
  },
  {
   "cell_type": "markdown",
   "metadata": {},
   "source": [
    "Q. Compute the volume of a sphere of radius 7m.\n",
    "Hint: Use pi = 22/7"
   ]
  },
  {
   "cell_type": "code",
   "execution_count": 8,
   "metadata": {
    "collapsed": false
   },
   "outputs": [
    {
     "name": "stdout",
     "output_type": "stream",
     "text": [
      "1437.333333333333\n"
     ]
    }
   ],
   "source": [
    "volume = (4/3)*(22/7)*(7**3)\n",
    "print(volume)"
   ]
  },
  {
   "cell_type": "markdown",
   "metadata": {},
   "source": [
    "## What is a program?\n",
    "\n",
    "A program is a sequence of instructions that specifies how to perform a computation.\n",
    "\n",
    "Examples of what a program might do:\n",
    "- Check whether a number is odd or even\n",
    "- Print Fibonacci numbers\n",
    "- Help you make the world a better place\n",
    "- And pretty much anything!\n",
    "\n",
    "## What makes up a program?\n",
    "\n",
    "A few basic instructions appear in just about every language:\n",
    "\n",
    "**input**: Get data from the keyboard, a file, or some other device.\n",
    "\n",
    "**output**: Display data on the screen or send data to a file or other device.\n",
    "\n",
    "**math**: Perform basic mathematical operations like addition and multiplication.\n",
    "\n",
    "**conditional execution**: Check for certain conditions and execute the appropriate code.\n",
    "\n",
    "**repetition**: Perform some action repeatedly, usually with some variation."
   ]
  },
  {
   "cell_type": "markdown",
   "metadata": {},
   "source": [
    "## Taking Input from User\n",
    "\n",
    "There are only 2 ways to fetch data into your program\n",
    "\n",
    "- Prompting user to enter it\n",
    "- Reading data from an existing file/database"
   ]
  },
  {
   "cell_type": "code",
   "execution_count": 9,
   "metadata": {
    "collapsed": false
   },
   "outputs": [
    {
     "name": "stdout",
     "output_type": "stream",
     "text": [
      "Enter your name:Kshitij\n",
      "Kshitij\n"
     ]
    }
   ],
   "source": [
    "name = input('Enter your name:')\n",
    "print(name)"
   ]
  },
  {
   "cell_type": "markdown",
   "metadata": {},
   "source": [
    "## Conditionals\n",
    "\n",
    "- Control flow based on conditions"
   ]
  },
  {
   "cell_type": "code",
   "execution_count": 10,
   "metadata": {
    "collapsed": false
   },
   "outputs": [
    {
     "name": "stdout",
     "output_type": "stream",
     "text": [
      "Yay! You are a teenager.\n"
     ]
    }
   ],
   "source": [
    "age = 9\n",
    "\n",
    "if age <= 19: # if statement\n",
    "    # Notice the indentation\n",
    "    message = 'Yay! You are a teenager.' \n",
    "    print(message)"
   ]
  },
  {
   "cell_type": "code",
   "execution_count": 11,
   "metadata": {
    "collapsed": false
   },
   "outputs": [],
   "source": [
    "age = 21\n",
    "\n",
    "if age <= 19 and age > 12: # if statement with two conditions\n",
    "    message = 'Yay! You are a teenager.' \n",
    "    print(message)"
   ]
  },
  {
   "cell_type": "code",
   "execution_count": 12,
   "metadata": {
    "collapsed": false
   },
   "outputs": [
    {
     "name": "stdout",
     "output_type": "stream",
     "text": [
      "Alas! You are not a teenager. :(\n"
     ]
    }
   ],
   "source": [
    "age = 10\n",
    "\n",
    "if age <= 19 and age > 12: # if-else statement\n",
    "    message = 'Yay! You are a teenager. :)' \n",
    "    print(message)\n",
    "else:\n",
    "    message = 'Alas! You are not a teenager. :('\n",
    "    print(message)"
   ]
  },
  {
   "cell_type": "code",
   "execution_count": 13,
   "metadata": {
    "collapsed": false
   },
   "outputs": [
    {
     "name": "stdout",
     "output_type": "stream",
     "text": [
      "Be prepared! You are about to be a teenager. :D\n"
     ]
    }
   ],
   "source": [
    "age = 10\n",
    "\n",
    "if age <= 19 and age > 12: # if-elif-else statement\n",
    "    message = 'Yay! You are a teenager. :)' \n",
    "    print(message)\n",
    "elif age < 13:\n",
    "    message = 'Be prepared! You are about to be a teenager. :D'\n",
    "    print(message)\n",
    "else:\n",
    "    message = 'Alas! You are not a teenager. :('\n",
    "    print(message)"
   ]
  },
  {
   "cell_type": "code",
   "execution_count": 14,
   "metadata": {
    "collapsed": false
   },
   "outputs": [
    {
     "name": "stdout",
     "output_type": "stream",
     "text": [
      "This conditional is always True.\n",
      "This conditional is always not False.\n"
     ]
    }
   ],
   "source": [
    "if True:\n",
    "    print('This conditional is always True.')\n",
    "\n",
    "if not False:\n",
    "    print('This conditional is always not False.')"
   ]
  },
  {
   "cell_type": "code",
   "execution_count": 15,
   "metadata": {
    "collapsed": false
   },
   "outputs": [
    {
     "name": "stdout",
     "output_type": "stream",
     "text": [
      "1 is True\n"
     ]
    }
   ],
   "source": [
    "if 1:\n",
    "    print('1 is True')\n",
    "else:\n",
    "    print('1 is False')"
   ]
  },
  {
   "cell_type": "code",
   "execution_count": 16,
   "metadata": {
    "collapsed": false
   },
   "outputs": [
    {
     "name": "stdout",
     "output_type": "stream",
     "text": [
      "0 is False\n"
     ]
    }
   ],
   "source": [
    "if 0:\n",
    "    print('0 is True')\n",
    "else:\n",
    "    print('0 is False')"
   ]
  },
  {
   "cell_type": "markdown",
   "metadata": {},
   "source": [
    "# Functions"
   ]
  },
  {
   "cell_type": "code",
   "execution_count": 17,
   "metadata": {
    "collapsed": false
   },
   "outputs": [],
   "source": [
    "def function_name(parameter1, parameter2):\n",
    "    # Perform some operations on the parameters\n",
    "    # return some value as a result of the computation\n",
    "    pass\n",
    "\n",
    "argument1 = 'some value'\n",
    "argument2 = 'another value'\n",
    "return_value = function_name(argument1, argument2)"
   ]
  },
  {
   "cell_type": "code",
   "execution_count": 18,
   "metadata": {
    "collapsed": false
   },
   "outputs": [
    {
     "name": "stdout",
     "output_type": "stream",
     "text": [
      "Square of 5: 25\n"
     ]
    }
   ],
   "source": [
    "def square(number):\n",
    "    square_number = number*number\n",
    "    return square_number\n",
    "\n",
    "square_5 = square(5)\n",
    "print('Square of 5:', square_5)"
   ]
  },
  {
   "cell_type": "code",
   "execution_count": 19,
   "metadata": {
    "collapsed": false
   },
   "outputs": [
    {
     "name": "stdout",
     "output_type": "stream",
     "text": [
      "3 is odd: True\n",
      "4 is odd: False\n"
     ]
    }
   ],
   "source": [
    "def is_odd(number):\n",
    "    mod = number % 2\n",
    "    if mod == 1:\n",
    "        return True\n",
    "    else:\n",
    "        return False\n",
    "\n",
    "odd_3 = is_odd(3)\n",
    "odd_4 = is_odd(4)\n",
    "\n",
    "print('3 is odd:', odd_3)\n",
    "print('4 is odd:', odd_4)"
   ]
  },
  {
   "cell_type": "markdown",
   "metadata": {},
   "source": [
    "Q. Write a function to ask the user for his/her name and print a greeting \"Hello, {name}\""
   ]
  },
  {
   "cell_type": "code",
   "execution_count": null,
   "metadata": {
    "collapsed": true
   },
   "outputs": [],
   "source": []
  }
 ],
 "metadata": {
  "kernelspec": {
   "display_name": "Python 3",
   "language": "python",
   "name": "python3"
  },
  "language_info": {
   "codemirror_mode": {
    "name": "ipython",
    "version": 3
   },
   "file_extension": ".py",
   "mimetype": "text/x-python",
   "name": "python",
   "nbconvert_exporter": "python",
   "pygments_lexer": "ipython3",
   "version": "3.6.0"
  }
 },
 "nbformat": 4,
 "nbformat_minor": 2
}
