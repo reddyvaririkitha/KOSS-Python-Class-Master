{
 "cells": [
  {
   "cell_type": "markdown",
   "metadata": {
    "colab_type": "text",
    "id": "f1jaZJJYTSzf"
   },
   "source": [
    "<center>Introduction to Python !</center>\n",
    "---"
   ]
  },
  {
   "cell_type": "markdown",
   "metadata": {
    "colab_type": "text",
    "id": "m5Ep36soTSzp"
   },
   "source": [
    "Presented By :\n",
    "* Parth Verma | [Parth-Vader](www.github.com/Parth-Vader)\n",
    "* Nitin Choudhary | [nitinkgp23](www.github.com/nitinkgp23)\n",
    "* Sangeet Kumar Mishra | [sangeet259](www.github.com/sangeet259)"
   ]
  },
  {
   "cell_type": "markdown",
   "metadata": {
    "colab_type": "text",
    "id": "VNth2NdYTSzr"
   },
   "source": [
    "Co-Ordinted By :\n",
    "* Himanshu Mishra | [OrkoHunter](www.github.com/OrkoHunter)\n",
    "* Kshitij Saraogi | [shitij10496](www.github.com/shitij10496)\n",
    "* Rishabh Madan | [madan96](www.github.com/madan96)"
   ]
  },
  {
   "cell_type": "markdown",
   "metadata": {
    "colab_type": "text",
    "id": "7xXlPEckTSzu"
   },
   "source": [
    "## Organised By :\n",
    "### [Kharagpur Open Source Society](https://kossiitkgp.github.io)"
   ]
  },
  {
   "cell_type": "markdown",
   "metadata": {
    "colab_type": "text",
    "id": "pg_Sp5EsTSzy"
   },
   "source": [
    "# What are we going to learn today ?\n",
    "\n",
    "\n",
    "- How to program in Python language?\n",
    "- What is the Python language and why is there a buzz about it?\n",
    "\n",
    "\n",
    "Topics covered in this session:\n",
    "    - Types\n",
    "    - Variables\n",
    "    - Strings\n",
    "    - Boolean\n",
    "    - Conditionals\n",
    "    - List and Tuples\n",
    "    - Loops\n",
    "    - Functions\n",
    "    - Dicts\n",
    "    \n",
    "By the end of the session, We would like everyone to be comfortable with these concepts as they are the basis of the next session `Advanced Python`"
   ]
  },
  {
   "cell_type": "markdown",
   "metadata": {
    "colab_type": "text",
    "id": "DG8jH1lBTSz0"
   },
   "source": [
    "# How to Write and Run Python Code\n",
    "\n",
    "There are two ways to run Python code:\n",
    "    1. interactive mode\n",
    "    2. script mode\n"
   ]
  },
  {
   "cell_type": "markdown",
   "metadata": {
    "colab_type": "text",
    "id": "SO__tFbmTSz3"
   },
   "source": [
    "## Interactive Mode\n",
    "\n",
    "In interactive mode, you type Python code and the interpreter displays the result.\n",
    "This is the Python REPL (Read-Eval-Print Loop)."
   ]
  },
  {
   "cell_type": "code",
   "execution_count": null,
   "metadata": {
    "colab": {},
    "colab_type": "code",
    "id": "5Di2N-U4TSz6",
    "outputId": "e9b5d9a2-2d6c-401b-c6a4-98587e313601"
   },
   "outputs": [],
   "source": [
    "print('Hello, World! This is my first line of Python')"
   ]
  },
  {
   "cell_type": "markdown",
   "metadata": {
    "colab_type": "text",
    "id": "GS-94A8STS0D"
   },
   "source": [
    "## Script Mode\n",
    "\n",
    "In script mode, you store the code in a file that ends with \".py\".\n",
    "\n",
    "Copy the above line of code in a file called **hello_world.py**.\n",
    "To execute the code in the file, you would type **$ python first_program.py** in a command window.\n",
    "\n",
    "You should save your code as a script if you are writing anything more than a few lines."
   ]
  },
  {
   "cell_type": "markdown",
   "metadata": {
    "colab_type": "text",
    "id": "UU7lIo03TS0G"
   },
   "source": [
    "## Types"
   ]
  },
  {
   "cell_type": "markdown",
   "metadata": {
    "colab_type": "text",
    "id": "AuesvClhTS0J"
   },
   "source": [
    "Variables\n",
    "---------\n",
    "\n",
    "In computer programming, a variable is a storage location and an associated symbolic name (an _identifier_) which contains some known or unknown quantity or information, a value.\n",
    "\n",
    "#### C\n",
    "```c\n",
    "int x = 29;\n",
    "float y = 321.321;\n",
    "double z = 32132132132133.21;\n",
    "```\n",
    "\n",
    "#### Python\n",
    "```python\n",
    "x = 343  # Integer\n",
    "y = 43.24  # Float\n",
    "```\n",
    "Variable names in Python can contain alphanumerical characters a-z, A-Z, 0-9 and some special characters such as `_`. Normal variable names should start with a letter. `_` can be used for special cases.\n",
    "By convension, variable names start with a lower-case letter, and Class names start with an upper-case letter.\n",
    "In addition, there are a number of Python keywords that cannot be used as variable names. These keywords are:\n",
    "\n",
    "```\n",
    "and, as, assert, break, class, continue, def, del, elif, else, except, \n",
    "exec, finally, for, from, global, if, import, in, is, lambda, not, or,\n",
    "pass, print, raise, return, try, while, with, yield\n",
    "```\n"
   ]
  },
  {
   "cell_type": "markdown",
   "metadata": {
    "colab_type": "text",
    "id": "b4nTdwGjTS0L"
   },
   "source": [
    "Note: Be aware of the keyword `lambda`, which could easily be a natural variable name in a scientific program. But being a keyword, it cannot be used as a variable name."
   ]
  },
  {
   "cell_type": "markdown",
   "metadata": {
    "colab_type": "text",
    "id": "Y816_R5zTS0N"
   },
   "source": [
    "Assignment\n",
    "----------\n",
    "\n",
    "The assignment operator in Python is `=`. Python is a **dynamically typed** language, so we do not need to specify the type of a variable when we create one."
   ]
  },
  {
   "cell_type": "markdown",
   "metadata": {
    "colab_type": "raw",
    "id": "bu5Zip0GTS0P"
   },
   "source": [
    "Assigning a value to a new variable creates the variable:"
   ]
  },
  {
   "cell_type": "code",
   "execution_count": null,
   "metadata": {
    "colab": {},
    "colab_type": "code",
    "id": "kYrtKpjOTS0Q"
   },
   "outputs": [],
   "source": [
    "''' \n",
    "variable assignments\n",
    "this is a variable assignment\n",
    "'''\n",
    "x = 1.0\n",
    "my_variable = 12\n",
    "name=\"Ram\""
   ]
  },
  {
   "cell_type": "code",
   "execution_count": null,
   "metadata": {
    "colab": {},
    "colab_type": "code",
    "id": "f_82wdAsTS0U",
    "outputId": "3587bf0f-a251-4620-8b4a-71cacdabdf6a"
   },
   "outputs": [],
   "source": [
    "print(type(x))\n",
    "print(type(my_variable))\n",
    "print(type(name))"
   ]
  },
  {
   "cell_type": "markdown",
   "metadata": {
    "colab_type": "raw",
    "id": "oXvXG3XpTS0g"
   },
   "source": [
    "If we assign a new value to a variable, its type can change."
   ]
  },
  {
   "cell_type": "code",
   "execution_count": null,
   "metadata": {
    "colab": {},
    "colab_type": "code",
    "id": "AIVKO8_tTS0h",
    "outputId": "ee80bf92-fde2-4e3f-a1fa-9618abd1cd94"
   },
   "outputs": [],
   "source": [
    "x = 1\n",
    "type(x)"
   ]
  },
  {
   "cell_type": "markdown",
   "metadata": {
    "colab_type": "text",
    "id": "7uf94xXaTS0r"
   },
   "source": [
    "We get a `NameError` when we try to access a variable which has not been defined."
   ]
  },
  {
   "cell_type": "code",
   "execution_count": null,
   "metadata": {
    "colab": {},
    "colab_type": "code",
    "id": "Qo5QCAFsTS0t",
    "outputId": "4a4b2f0f-b6e9-42f5-a9d6-394fcc30ace5"
   },
   "outputs": [],
   "source": [
    "t = x + y"
   ]
  },
  {
   "cell_type": "markdown",
   "metadata": {
    "colab_type": "text",
    "id": "TcVkN0NnTS08"
   },
   "source": [
    "## Multiple assignments"
   ]
  },
  {
   "cell_type": "code",
   "execution_count": null,
   "metadata": {
    "colab": {},
    "colab_type": "code",
    "id": "h-1zWDcGTS0-"
   },
   "outputs": [],
   "source": [
    "a, b, c = 5, 3.2, \"Hello\""
   ]
  },
  {
   "cell_type": "code",
   "execution_count": null,
   "metadata": {
    "colab": {},
    "colab_type": "code",
    "id": "7p-ORyq7TS1D",
    "outputId": "7efff998-dbf0-4e1b-c052-fced81c7eba7"
   },
   "outputs": [],
   "source": [
    "print(a,b,c)"
   ]
  },
  {
   "cell_type": "markdown",
   "metadata": {
    "colab_type": "text",
    "id": "YBjA4RttTS1M"
   },
   "source": [
    "### Assign the same value to multiple variables at once"
   ]
  },
  {
   "cell_type": "code",
   "execution_count": null,
   "metadata": {
    "colab": {},
    "colab_type": "code",
    "id": "ZQ3LDqmJTS1O"
   },
   "outputs": [],
   "source": [
    "x = y = z = \"same\""
   ]
  },
  {
   "cell_type": "markdown",
   "metadata": {
    "colab_type": "text",
    "id": "dMttZW8UTS1T"
   },
   "source": [
    "Fundamental data types\n",
    "----------------------"
   ]
  },
  {
   "cell_type": "code",
   "execution_count": null,
   "metadata": {
    "colab": {},
    "colab_type": "code",
    "id": "yhrch8ZNTS1V",
    "outputId": "427a61cd-51e9-41a0-d243-a71312148c60"
   },
   "outputs": [],
   "source": [
    "# integers\n",
    "x = 1\n",
    "type(x)"
   ]
  },
  {
   "cell_type": "code",
   "execution_count": null,
   "metadata": {
    "colab": {},
    "colab_type": "code",
    "id": "lI4DwsEYTS1d",
    "outputId": "131e69a3-3269-42c9-d880-6a0c186fbbab"
   },
   "outputs": [],
   "source": [
    "# float\n",
    "x = 1.0\n",
    "type(x)"
   ]
  },
  {
   "cell_type": "code",
   "execution_count": null,
   "metadata": {
    "colab": {},
    "colab_type": "code",
    "id": "CQBBhnGITS1k",
    "outputId": "93468497-c579-4817-ab23-6507ff95f7f4"
   },
   "outputs": [],
   "source": [
    "# boolean\n",
    "b1 = True\n",
    "b2 = False\n",
    "\n",
    "type(b1)\n"
   ]
  },
  {
   "cell_type": "markdown",
   "metadata": {
    "colab_type": "text",
    "id": "SAuIiAOlTS1u"
   },
   "source": [
    "### More on Booleans later!"
   ]
  },
  {
   "cell_type": "markdown",
   "metadata": {
    "colab_type": "text",
    "id": "s9WaCCF6TS1w"
   },
   "source": [
    "## Complex Numbers in Python !!"
   ]
  },
  {
   "cell_type": "code",
   "execution_count": null,
   "metadata": {
    "colab": {},
    "colab_type": "code",
    "id": "sWdi_re8TS10",
    "outputId": "e4c9cffd-1482-475a-b186-f4269b05cd57"
   },
   "outputs": [],
   "source": [
    "# complex numbers: note the use of `j` to specify the imaginary part\n",
    "x = 1.0 - 1.0j\n",
    "type(x)"
   ]
  },
  {
   "cell_type": "code",
   "execution_count": null,
   "metadata": {
    "colab": {},
    "colab_type": "code",
    "id": "_29OPa6rTS2C",
    "outputId": "d550ecb7-7308-41ba-ba1e-31cbcb41e9bb"
   },
   "outputs": [],
   "source": [
    "print(x)"
   ]
  },
  {
   "cell_type": "code",
   "execution_count": null,
   "metadata": {
    "colab": {},
    "colab_type": "code",
    "id": "9dXSNNjbTS2I",
    "outputId": "18f788e0-3db3-4f2f-c253-005b2bd18067"
   },
   "outputs": [],
   "source": [
    "# Real part\n",
    "print(x.real)"
   ]
  },
  {
   "cell_type": "code",
   "execution_count": null,
   "metadata": {
    "colab": {},
    "colab_type": "code",
    "id": "mEytX4UHTS2V",
    "outputId": "ea069631-6992-4366-a13c-62c8f4447ba6"
   },
   "outputs": [],
   "source": [
    "# Imaginary \n",
    "print(x.imag)"
   ]
  },
  {
   "cell_type": "markdown",
   "metadata": {
    "colab_type": "text",
    "id": "e8qbm4a9TS2a"
   },
   "source": [
    "## Typecasting\n",
    "\n",
    "When you want to change variables from one type to another.\n",
    "We are using inbuilt _functions_ to do the typecasting.\n",
    "Later we'll show you how to write your own functions."
   ]
  },
  {
   "cell_type": "code",
   "execution_count": null,
   "metadata": {
    "colab": {},
    "colab_type": "code",
    "id": "lquoydUBTS2f",
    "outputId": "5ef9f58a-88fb-45bc-a9ac-a40b6f4e778c"
   },
   "outputs": [],
   "source": [
    "a = 1\n",
    "print(a)"
   ]
  },
  {
   "cell_type": "code",
   "execution_count": null,
   "metadata": {
    "colab": {},
    "colab_type": "code",
    "id": "EGUowZYdTS2k",
    "outputId": "ab29605a-c4c2-48c6-da56-646464b66eb2"
   },
   "outputs": [],
   "source": [
    "float(a)"
   ]
  },
  {
   "cell_type": "code",
   "execution_count": null,
   "metadata": {
    "colab": {},
    "colab_type": "code",
    "id": "F9QAH7jGTS2p",
    "outputId": "a08cef41-a8b6-4342-9a2e-47180bc7ba79"
   },
   "outputs": [],
   "source": [
    "z = 2 + 3j\n",
    "z"
   ]
  },
  {
   "cell_type": "code",
   "execution_count": null,
   "metadata": {
    "colab": {},
    "colab_type": "code",
    "id": "w41salN6TS2x",
    "outputId": "8dd7b337-8547-494f-d23d-d6252f753a54"
   },
   "outputs": [],
   "source": [
    "float(z.imag)"
   ]
  },
  {
   "cell_type": "code",
   "execution_count": null,
   "metadata": {
    "colab": {},
    "colab_type": "code",
    "id": "Qw2SgJJ0TS23",
    "outputId": "565a301c-a11a-4771-9d6d-4ad3989b4e52"
   },
   "outputs": [],
   "source": [
    "complex(a)"
   ]
  },
  {
   "cell_type": "code",
   "execution_count": null,
   "metadata": {
    "colab": {},
    "colab_type": "code",
    "id": "K8c8-iUGTS29",
    "outputId": "8fcfb2cd-29f7-42f9-f5c3-85ea88cbc2ee"
   },
   "outputs": [],
   "source": [
    "int(45.55)"
   ]
  },
  {
   "cell_type": "markdown",
   "metadata": {
    "colab_type": "text",
    "id": "nU-mHebBTS3H"
   },
   "source": [
    "## Python List"
   ]
  },
  {
   "cell_type": "markdown",
   "metadata": {
    "colab_type": "raw",
    "id": "BV0Rf4IOTS3H"
   },
   "source": [
    "List is an ordered sequence of items."
   ]
  },
  {
   "cell_type": "code",
   "execution_count": null,
   "metadata": {
    "colab": {},
    "colab_type": "code",
    "id": "G0CXzE9-TS3I"
   },
   "outputs": [],
   "source": [
    "a = [1, 2.2, 'python']"
   ]
  },
  {
   "cell_type": "markdown",
   "metadata": {
    "colab_type": "text",
    "id": "p1DBnxczTS3M"
   },
   "source": [
    "## Python Tuple"
   ]
  },
  {
   "cell_type": "markdown",
   "metadata": {
    "colab_type": "raw",
    "id": "xSu5Ba9rTS3N"
   },
   "source": [
    "Tuple is an ordered sequence of items same as list.\n",
    "The only difference is that tuples are immutable."
   ]
  },
  {
   "cell_type": "code",
   "execution_count": null,
   "metadata": {
    "colab": {},
    "colab_type": "code",
    "id": "yK4xFBiyTS3P"
   },
   "outputs": [],
   "source": [
    "t = (5,'program', 1+3j)"
   ]
  },
  {
   "cell_type": "markdown",
   "metadata": {
    "colab_type": "text",
    "id": "Wv3i8FeWTS3Q"
   },
   "source": [
    "# Mutability in Python"
   ]
  },
  {
   "cell_type": "markdown",
   "metadata": {
    "colab_type": "text",
    "id": "LkWk9a8-TS3S"
   },
   "source": [
    "```A class is immutable if each object of that class has a fixed value upon instantiation that cannot SUBSEQUENTLY be changed```"
   ]
  },
  {
   "cell_type": "markdown",
   "metadata": {
    "colab_type": "text",
    "id": "E8TZwJiJTS3S"
   },
   "source": [
    "***In another words change the entire value of that variable name or leave it alone.***"
   ]
  },
  {
   "cell_type": "markdown",
   "metadata": {
    "colab_type": "text",
    "id": "WdWuadqWTS3T"
   },
   "source": [
    "Example:"
   ]
  },
  {
   "cell_type": "code",
   "execution_count": null,
   "metadata": {
    "colab": {},
    "colab_type": "code",
    "id": "HoyKY1cjTS3T",
    "outputId": "2847f7d4-4060-40b3-8169-0df14c7f5edd"
   },
   "outputs": [],
   "source": [
    "my_string = \"Hello world\"\n",
    "my_string[0] = \"h\"\n",
    "print(my_string)"
   ]
  },
  {
   "cell_type": "markdown",
   "metadata": {
    "colab_type": "raw",
    "id": "4kWrHW-fTS3Y"
   },
   "source": [
    "The interpreter is saying : i can't change the first character of this string"
   ]
  },
  {
   "cell_type": "markdown",
   "metadata": {
    "colab_type": "raw",
    "id": "dS2DvqXeTS3a"
   },
   "source": [
    "You will have to change the whole `string` in order to make it works:"
   ]
  },
  {
   "cell_type": "code",
   "execution_count": null,
   "metadata": {
    "colab": {},
    "colab_type": "code",
    "id": "30yrA0ZLTS3a"
   },
   "outputs": [],
   "source": [
    "my_string = \"Hello World\"\n",
    "my_string = \"hello world\"\n",
    "print(my_string) #hello world"
   ]
  },
  {
   "cell_type": "markdown",
   "metadata": {
    "colab_type": "raw",
    "id": "d9x56OlkTS3f"
   },
   "source": [
    "Here is a complete list of Mutable and Immutable Data Types"
   ]
  },
  {
   "cell_type": "markdown",
   "metadata": {
    "colab_type": "text",
    "id": "vqea5zn3TS3m"
   },
   "source": [
    "![img](./img/mutable_and_immutable.png \"img\")"
   ]
  },
  {
   "cell_type": "markdown",
   "metadata": {
    "colab_type": "text",
    "id": "u_-Jk_1vTmyr"
   },
   "source": [
    "## Question\n",
    "While writing a new backend code in python Alex is stuck on how to take an address string and prefix it with an order id and suffix it with the name of person to whom it is delivered. Help Alex with his task.  \n",
    "**Address** -> Kharagpur, West Bengal 721302  \n",
    "**Name** -> Partha Pratim Chakraborty  \n",
    "**Order-id** -> LifeOutSideCollege"
   ]
  },
  {
   "cell_type": "code",
   "execution_count": null,
   "metadata": {},
   "outputs": [],
   "source": [
    "# Your code here"
   ]
  },
  {
   "cell_type": "markdown",
   "metadata": {
    "colab_type": "text",
    "id": "q4jIa56hZbbp"
   },
   "source": [
    "## Question \n",
    "\n",
    "As you helped Nitin add prefix and suffix to the addresss string, now nitin has passed down this code to Apoorva. Now Apoorva being a shitty coder doesn't know some basic function of python. He is given a **list** such as it contains :  \n",
    "**[serial no,order-id,address,name]**.\n",
    "\n",
    "But due to some bug in the system the serial number is in string rather than being an integer. So manipulate the list such as it contains serial number in integer and it comes in last as **[order-id,address,name,serial no]**. Help Apoorva save his ass.\n",
    "\n",
    "\n"
   ]
  },
  {
   "cell_type": "code",
   "execution_count": null,
   "metadata": {},
   "outputs": [],
   "source": [
    "oldlist=[\"1\",\"LifeOutSideCollege\",\"Kharagpur, West Bengal 721302\",\"Partha Pratim Chakraborty\"]\n",
    "\n",
    "# newlist = "
   ]
  }
 ],
 "metadata": {
  "colab": {
   "name": "1.Types and Variables.ipynb",
   "provenance": [],
   "version": "0.3.2"
  },
  "kernelspec": {
   "display_name": "Python 3",
   "language": "python",
   "name": "python3"
  },
  "language_info": {
   "codemirror_mode": {
    "name": "ipython",
    "version": 3
   },
   "file_extension": ".py",
   "mimetype": "text/x-python",
   "name": "python",
   "nbconvert_exporter": "python",
   "pygments_lexer": "ipython3",
   "version": "3.6.3"
  }
 },
 "nbformat": 4,
 "nbformat_minor": 1
}
