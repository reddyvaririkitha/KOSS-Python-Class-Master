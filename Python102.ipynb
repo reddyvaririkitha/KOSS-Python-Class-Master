{
 "cells": [
  {
   "cell_type": "markdown",
   "metadata": {},
   "source": [
    "# Python 102"
   ]
  },
  {
   "cell_type": "markdown",
   "metadata": {},
   "source": [
    "#### Topics to be covered:\n",
    "\n",
    "- Built-in Data Types: `list`, `tuple`, `dict`\n",
    "- Iteration: `for-loop` and `while-loop`\n",
    "- Object oriented Programming: Classes and objects"
   ]
  },
  {
   "cell_type": "markdown",
   "metadata": {},
   "source": [
    "# Built-in Data Types\n",
    "\n",
    "- Performace Efficient\n",
    "- Consistent across all platforms\n",
    "- Flexibilty\n",
    "- Fun"
   ]
  },
  {
   "cell_type": "markdown",
   "metadata": {},
   "source": [
    "## List\n",
    "\n",
    "- Array, Mutable Sequence of items"
   ]
  },
  {
   "cell_type": "code",
   "execution_count": null,
   "metadata": {
    "collapsed": true
   },
   "outputs": [],
   "source": [
    "names = [] # list of names\n",
    "# Indexing\n",
    "# insert, append, extend and +\n",
    "# pop\n",
    "# count\n",
    "# sort\n",
    "# List comprehension"
   ]
  },
  {
   "cell_type": "markdown",
   "metadata": {},
   "source": [
    "## Tuple\n",
    "\n",
    "- Record, Structure\n",
    "- Immutable data structure"
   ]
  },
  {
   "cell_type": "code",
   "execution_count": null,
   "metadata": {
    "collapsed": false
   },
   "outputs": [],
   "source": [
    "record = ('Kshitij', 21, 'IIT KGP', 'Mathematics and Computing')\n",
    "print(record[0])\n",
    "\n",
    "record[-1] = 'MnC'  # cannot change data"
   ]
  },
  {
   "cell_type": "markdown",
   "metadata": {},
   "source": [
    "## Dictionary\n",
    "\n",
    "- Mapping, Hash Table"
   ]
  },
  {
   "cell_type": "code",
   "execution_count": 1,
   "metadata": {
    "collapsed": false
   },
   "outputs": [],
   "source": [
    "state_capitals = {}\n",
    "# Defining a dictionary\n",
    "# keys(), values(), items()\n",
    "# has_key\n",
    "# update\n",
    "# Dictionary Comprehension\n",
    "# in operator"
   ]
  },
  {
   "cell_type": "markdown",
   "metadata": {},
   "source": [
    "### Q. Six is a Mob\n",
    "\n",
    "Create a list with at least 6 names inside it. Write an if/else test case to test the following:\n",
    "If there are more than 5 people, a message is printed about there being a mob in the room.  \n",
    "If there are 3-5 people, a message is printed about the room being crowded.  \n",
    "If there are 1 or 2 people, a message is printed about the room not being crowded.  \n",
    "If there are no people in the room, a message is printed about the room being empty."
   ]
  },
  {
   "cell_type": "markdown",
   "metadata": {},
   "source": [
    "# Iteration"
   ]
  },
  {
   "cell_type": "markdown",
   "metadata": {},
   "source": [
    "## for loop"
   ]
  },
  {
   "cell_type": "code",
   "execution_count": null,
   "metadata": {
    "collapsed": false
   },
   "outputs": [],
   "source": [
    "for i in range(10): # range built-in\n",
    "    print(i)\n",
    "\n",
    "for i in range(1, 11, 2):\n",
    "    print(i)"
   ]
  },
  {
   "cell_type": "code",
   "execution_count": null,
   "metadata": {
    "collapsed": false
   },
   "outputs": [],
   "source": [
    "names = []\n",
    "\n",
    "# Method 01\n",
    "for i in range(len(names)): # for(i=0; i<len; i++)\n",
    "    print(names[i])\n",
    "\n",
    "# The Python way"
   ]
  },
  {
   "cell_type": "markdown",
   "metadata": {},
   "source": [
    "## while loop"
   ]
  },
  {
   "cell_type": "code",
   "execution_count": null,
   "metadata": {
    "collapsed": false
   },
   "outputs": [],
   "source": [
    "name = 1\n",
    "while name:\n",
    "    name = input('Enter your name:')\n",
    "    print('Entered name =', name)"
   ]
  },
  {
   "cell_type": "markdown",
   "metadata": {},
   "source": [
    "break, pass and continue"
   ]
  },
  {
   "cell_type": "markdown",
   "metadata": {},
   "source": [
    "### Q. Fibonacci Numbers\n",
    "\n",
    "Take a number as input from the user and write a function to compute the `n`th number in the Fibonacci Sequence."
   ]
  },
  {
   "cell_type": "markdown",
   "metadata": {},
   "source": [
    "# Classes"
   ]
  },
  {
   "cell_type": "code",
   "execution_count": null,
   "metadata": {
    "collapsed": false
   },
   "outputs": [],
   "source": [
    "class Point(object): # Class Definition\n",
    "    def __init__(self, x, y):\n",
    "        self.x = x\n",
    "        self.y = y\n",
    "\n",
    "    def __repr__(self):\n",
    "        return \"Point(x={}, y={})\".format(self.x, self.y)\n",
    "    \n",
    "p = Point(3, 4) # Object/Instance\n",
    "print(p)\n",
    "print('p.x =', p.x)\n",
    "print('p.y =', p.y)"
   ]
  },
  {
   "cell_type": "markdown",
   "metadata": {},
   "source": [
    "1. How to add perform vector addition of points ?\n",
    "2. How to find the distance between two points ?"
   ]
  },
  {
   "cell_type": "code",
   "execution_count": null,
   "metadata": {
    "collapsed": false
   },
   "outputs": [],
   "source": [
    "class Point(object): # Class Definition\n",
    "    def __init__(self, x, y):\n",
    "        self.x = x\n",
    "        self.y = y\n",
    "\n",
    "    def __repr__(self):\n",
    "        return \"Point(x={}, y={})\".format(self.x, self.y)\n",
    "    \n",
    "    def __add__(self, other):\n",
    "        return Point(self.x + other.x, self.y + other.y)\n",
    "\n",
    "p1, p2 = Point(3, 4), Point(1, 2)\n",
    "print('p1 =', p1)\n",
    "print('p2 =', p2)\n",
    "p3 = p1 + p2\n",
    "print('p3 =', p3)"
   ]
  },
  {
   "cell_type": "code",
   "execution_count": null,
   "metadata": {
    "collapsed": false
   },
   "outputs": [],
   "source": [
    "import math\n",
    "\n",
    "class Point(object): # Class Definition\n",
    "    def __init__(self, x, y):\n",
    "        self.x = x\n",
    "        self.y = y\n",
    "\n",
    "    def __repr__(self):\n",
    "        return \"Point(x={}, y={})\".format(self.x, self.y)\n",
    "    \n",
    "    def __add__(self, other):\n",
    "        return Point(self.x + other.x, self.y + other.y)\n",
    "\n",
    "    def distance(self, other):\n",
    "        d = math.sqrt((self.x - other.x)**2 + (self.y - other.y)**2)\n",
    "        return d\n",
    "\n",
    "p1, p2 = Point(3, 4), Point(1, 2)\n",
    "print('p1 =', p1)\n",
    "print('p2 =', p2)\n",
    "\n",
    "distance_between_p1_p2 = p1.distance(p2)\n",
    "print('Distance between p1 and p2 =', distance_between_p1_p2)\n",
    "\n",
    "distance_between_p2_p1 = p2.distance(p1)\n",
    "print('Distance between p2 and p1 =', distance_between_p2_p1)"
   ]
  },
  {
   "cell_type": "markdown",
   "metadata": {},
   "source": [
    "# Q. Implement a class to abstract Rational numbers"
   ]
  }
 ],
 "metadata": {
  "kernelspec": {
   "display_name": "Python 3",
   "language": "python",
   "name": "python3"
  },
  "language_info": {
   "codemirror_mode": {
    "name": "ipython",
    "version": 3
   },
   "file_extension": ".py",
   "mimetype": "text/x-python",
   "name": "python",
   "nbconvert_exporter": "python",
   "pygments_lexer": "ipython3",
   "version": "3.6.0"
  }
 },
 "nbformat": 4,
 "nbformat_minor": 2
}
